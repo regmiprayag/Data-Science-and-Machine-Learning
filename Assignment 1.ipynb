{
 "cells": [
  {
   "cell_type": "markdown",
   "id": "9bc59625-134b-4f14-867d-e2f41505cc8e",
   "metadata": {},
   "source": [
    "## Question no 4"
   ]
  },
  {
   "cell_type": "code",
   "execution_count": 15,
   "id": "e4582fd7-14fb-4034-a152-87db99705693",
   "metadata": {},
   "outputs": [
    {
     "name": "stdout",
     "output_type": "stream",
     "text": [
      "['Forrest Gump', '3 idiots']\n",
      "['Forrest Gump', '3 idiots', 'Devdas']\n"
     ]
    }
   ],
   "source": [
    "# Creating a list of fav movies:\n",
    "movies = [\"Forrest Gump\",\"3 idiots\"]\n",
    "\n",
    "# Printing the movies\n",
    "print(movies)\n",
    "\n",
    "# Appending a new movie to the list\n",
    "movies.append(\"Devdas\")\n",
    "\n",
    "print(movies)"
   ]
  },
  {
   "cell_type": "markdown",
   "id": "562e0660-9003-472b-adbd-8454d7d33925",
   "metadata": {},
   "source": [
    "## Question no 5"
   ]
  },
  {
   "cell_type": "code",
   "execution_count": 20,
   "id": "547022df-5b68-466b-b086-9e9b2b7b95d3",
   "metadata": {},
   "outputs": [
    {
     "name": "stdout",
     "output_type": "stream",
     "text": [
      "[1, 2, 3, 4, 5, 6, 7, 8, 9, 10]\n",
      "55\n"
     ]
    }
   ],
   "source": [
    "# creating a list from 1 to 10 and printing them.\n",
    "num = [1,2,3,4,5,6,7,8,9,10]\n",
    "print(num)\n",
    "\n",
    "# printing the sum of all numbers from 1 to 10\n",
    "sum = 0\n",
    "for i in num:\n",
    "    sum=sum+i\n",
    "\n",
    "print(sum)"
   ]
  },
  {
   "cell_type": "markdown",
   "id": "33747edf-7842-401f-abf7-50c6da65fd4a",
   "metadata": {},
   "source": [
    "## Question no 6"
   ]
  },
  {
   "cell_type": "code",
   "execution_count": 24,
   "id": "4978dabb-75a1-4ee7-8734-6d29919575d2",
   "metadata": {},
   "outputs": [
    {
     "name": "stdout",
     "output_type": "stream",
     "text": [
      "[1, 'Ram', 20.5]\n",
      "['Ram', 20.5]\n"
     ]
    }
   ],
   "source": [
    "# creating a list of different data types \n",
    "list_a = [1,'Ram',20.5]\n",
    "print(list_a)\n",
    "\n",
    "# removing the first element from the list\n",
    "list_a.pop(0)\n",
    "print(list_a)"
   ]
  },
  {
   "cell_type": "markdown",
   "id": "bb763ff8-c565-471c-aa61-09527dfe2dd2",
   "metadata": {},
   "source": [
    "## Question no 7"
   ]
  },
  {
   "cell_type": "code",
   "execution_count": 29,
   "id": "cef3e5b5-b6f2-45ad-8c86-7c60eec1b316",
   "metadata": {},
   "outputs": [
    {
     "name": "stdout",
     "output_type": "stream",
     "text": [
      "('Sunday', 'Monday', 'Tuesday', 'Wednesday', 'Thrusday', 'Friday', 'Saturday')\n",
      "Wednesday\n"
     ]
    }
   ],
   "source": [
    "# creatin a tuple containing the names of the days of the week and printing it\n",
    "tuple1 = (\"Sunday\",\"Monday\",\"Tuesday\",\"Wednesday\",\"Thrusday\",\"Friday\",\"Saturday\")\n",
    "print(tuple1)\n",
    "\n",
    "# print the name of the third day\n",
    "print(tuple1[3])"
   ]
  },
  {
   "cell_type": "markdown",
   "id": "2db4b22f-1c7c-42e3-b070-14e0a868624b",
   "metadata": {},
   "source": [
    "## Question no 8"
   ]
  },
  {
   "cell_type": "code",
   "execution_count": 35,
   "id": "816247c8-5e3f-4f7e-ab89-75fecffa01e3",
   "metadata": {},
   "outputs": [
    {
     "name": "stdout",
     "output_type": "stream",
     "text": [
      "('Red', 'Green', 'Blue')\n",
      "Blue is present in the tuple.\n"
     ]
    }
   ],
   "source": [
    "# create a tuple of the colors and print it\n",
    "colors = (\"Red\",\"Green\",\"Blue\")\n",
    "print(colors)\n",
    "\n",
    "# check if the one color is present or not.\n",
    "a = \"Blue\"\n",
    "if a in colors:\n",
    "    print(f\"{a} is present in the tuple.\")\n",
    "else:\n",
    "    print(f\"{a} is not present in the tuple.\")"
   ]
  },
  {
   "cell_type": "markdown",
   "id": "21455bdc-1e67-4669-8225-9d13c9b8f3d4",
   "metadata": {},
   "source": [
    "## Question no 9"
   ]
  },
  {
   "cell_type": "code",
   "execution_count": 37,
   "id": "7436218a-1da1-48c6-90ef-4423e07355b7",
   "metadata": {},
   "outputs": [
    {
     "name": "stdout",
     "output_type": "stream",
     "text": [
      "{'title': 'DSA', 'name': 'Algorithm book', 'year': '2022-10-10'}\n",
      "{'title': 'DSA', 'name': 'Algorithm book', 'year': '2023-10-10'}\n"
     ]
    }
   ],
   "source": [
    "# create a dictionary of books representing title, name, published year\n",
    "books = {\n",
    "    \"title\":\"DSA\",\n",
    "    \"name\":\"Algorithm book\",\n",
    "    \"year\":\"2022-10-10\"\n",
    "}\n",
    "print(books)\n",
    "\n",
    "# updating the dictionary\n",
    "books.update({\"year\":\"2023-10-10\"})\n",
    "\n",
    "print(books)"
   ]
  },
  {
   "cell_type": "markdown",
   "id": "85ef83fa-6867-4def-a286-fe906ecd7339",
   "metadata": {},
   "source": [
    "## Question no 10"
   ]
  },
  {
   "cell_type": "code",
   "execution_count": 44,
   "id": "ac688892-9652-42cd-80da-919bc872812f",
   "metadata": {},
   "outputs": [
    {
     "name": "stdout",
     "output_type": "stream",
     "text": [
      "{'Banana': 'yellow', 'Apple': 'red', 'orange': 'orange'}\n",
      "{'Banana': 'yellow', 'Apple': 'red', 'orange': 'orange', 'Mango': 'Green'}\n"
     ]
    }
   ],
   "source": [
    "# create a dictionary of fruits keys shouold be name and colors as values\n",
    "fruits = {\n",
    "    \"Banana\":\"yellow\",\n",
    "    \"Apple\":\"red\",\n",
    "    \"orange\":\"orange\"\n",
    "}\n",
    "print(fruits)\n",
    "\n",
    "fruits['Mango'] = \"Green\"\n",
    "print(fruits)"
   ]
  },
  {
   "cell_type": "markdown",
   "id": "efe03564-7d74-43f3-96f1-b832b0e2104e",
   "metadata": {},
   "source": [
    "## Question no 11"
   ]
  },
  {
   "cell_type": "code",
   "execution_count": 47,
   "id": "65356d50-743a-47d4-8004-60d21014e08a",
   "metadata": {},
   "outputs": [
    {
     "name": "stdout",
     "output_type": "stream",
     "text": [
      "{'ktm': '200', 'butwal': '100'}\n",
      "{'butwal': '100'}\n"
     ]
    }
   ],
   "source": [
    "# Create a dictionary with the name of cities and values as population\n",
    "cities = {\n",
    "    \"ktm\":\"200\",\n",
    "    \"butwal\":\"100\"\n",
    "}\n",
    "print(cities)\n",
    "\n",
    "del cities['ktm']\n",
    "print(cities)"
   ]
  }
 ],
 "metadata": {
  "kernelspec": {
   "display_name": "Python 3 (ipykernel)",
   "language": "python",
   "name": "python3"
  },
  "language_info": {
   "codemirror_mode": {
    "name": "ipython",
    "version": 3
   },
   "file_extension": ".py",
   "mimetype": "text/x-python",
   "name": "python",
   "nbconvert_exporter": "python",
   "pygments_lexer": "ipython3",
   "version": "3.11.7"
  }
 },
 "nbformat": 4,
 "nbformat_minor": 5
}
