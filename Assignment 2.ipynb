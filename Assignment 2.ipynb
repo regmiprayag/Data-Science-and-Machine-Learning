{
 "cells": [
  {
   "cell_type": "markdown",
   "id": "2aacee8e-d395-4ea8-ad3b-1b37aa45485a",
   "metadata": {},
   "source": [
    "## 1. Array Creation"
   ]
  },
  {
   "cell_type": "code",
   "execution_count": 25,
   "id": "1030ae72-faa8-41d0-9c35-61f48362686e",
   "metadata": {},
   "outputs": [
    {
     "name": "stdout",
     "output_type": "stream",
     "text": [
      "[ 1  2  3  4  5  6  7  8  9 10]\n",
      "[[3.59344178 2.22071049 0.23075171 6.76189433]\n",
      " [8.58557425 3.806624   7.15214521 9.88511831]\n",
      " [3.41046559 0.94621516 8.74967614 6.70326203]]\n",
      "[[[0. 0. 0. 0.]\n",
      "  [0. 0. 0. 0.]\n",
      "  [0. 0. 0. 0.]]\n",
      "\n",
      " [[0. 0. 0. 0.]\n",
      "  [0. 0. 0. 0.]\n",
      "  [0. 0. 0. 0.]]]\n"
     ]
    }
   ],
   "source": [
    "import numpy as np \n",
    "\n",
    "# a. Create a 1-dimensional array of integers from 1 to 10\n",
    "one_dim_array = np.array(range(1,11))\n",
    "print(one_dim_array)\n",
    "\n",
    "# b. Create a 2-dimensional array of random float values of shape(3,4)\n",
    "two_dim_rand_array = np.random.rand(3,4)*10\n",
    "print(two_dim_rand_array)\n",
    "\n",
    "# c. Create a three dimensional array of zeros with shape (2,3,4)\n",
    "three_dim_array = np.zeros((2,3,4))\n",
    "print(three_dim_array)"
   ]
  },
  {
   "cell_type": "markdown",
   "id": "32ba2d5b-a627-4f91-b216-5967a8076618",
   "metadata": {},
   "source": [
    "## 2. Array Operation"
   ]
  },
  {
   "cell_type": "code",
   "execution_count": 41,
   "id": "78972cfc-c1d0-4471-9a6d-11bb7d4f0759",
   "metadata": {},
   "outputs": [
    {
     "name": "stdout",
     "output_type": "stream",
     "text": [
      "The sum of the two arrays: [1 2 3] + [4 5 6] = [5 7 9]\n",
      "The subtraction of the two arrays: [1 2 3] - [4 5 6] = [-3 -3 -3]\n",
      "The multiplication of the two arrays: [1 2 3] * [4 5 6] = [ 4 10 18]\n",
      "The division of the two arrays: [1 2 3] / [4 5 6] = [0.25 0.4  0.5 ]\n",
      "The mean value of [1 2 3] is: 2.0\n",
      "The median value of [1 2 3] is: 2.0\n",
      "The standard deviation of [1 2 3] is: 0.816496580927726\n",
      "[[ 1  2  3  4]\n",
      " [ 5  6  7  8]\n",
      " [ 9 10 11 12]]\n"
     ]
    }
   ],
   "source": [
    "# a. Given two 1-dimensional arrays, perform element wise addition, substraction, multiplication and division\n",
    "first_array = np.array([1,2,3])\n",
    "second_array = np.array([4,5,6])\n",
    "\n",
    "add = first_array + second_array\n",
    "print(f\"The sum of the two arrays: {first_array} + {second_array} = {add}\")\n",
    "\n",
    "sub = first_array - second_array\n",
    "print(f\"The subtraction of the two arrays: {first_array} - {second_array} = {sub}\")\n",
    "\n",
    "mul = first_array * second_array\n",
    "print(f\"The multiplication of the two arrays: {first_array} * {second_array} = {mul}\")\n",
    "\n",
    "div = first_array / second_array\n",
    "print(f\"The division of the two arrays: {first_array} / {second_array} = {div}\")\n",
    "\n",
    "\n",
    "# b. Calculate the mean, median, and sd of a given 1-dimensional array\n",
    "new_array = np.array([1,2,3])\n",
    "mean_value = np.mean(new_array)\n",
    "print(f\"The mean value of {new_array} is: {mean_value}\")\n",
    "\n",
    "median_value = np.median(new_array)\n",
    "print(f\"The median value of {new_array} is: {median_value}\")\n",
    "\n",
    "std_value = np.std(new_array)\n",
    "print(f\"The standard deviation of {new_array} is: {std_value}\")\n",
    "\n",
    "# c. Reshape a 1-dimensional array into a 2-dimensional array of shape(3,4)\n",
    "one_dim_arr = np.array(range(1,13))\n",
    "new_arr = one_dim_arr.reshape(3,4)\n",
    "print(new_arr)"
   ]
  },
  {
   "cell_type": "markdown",
   "id": "7957e00f-1d3f-41e1-9a0b-c5fb38db4b34",
   "metadata": {},
   "source": [
    "## 3. Array Indexing and Slicing"
   ]
  },
  {
   "cell_type": "code",
   "execution_count": 49,
   "id": "1878b3d7-fb8d-4d3f-aa08-b71a7259754f",
   "metadata": {},
   "outputs": [
    {
     "name": "stdout",
     "output_type": "stream",
     "text": [
      "[[1 2 3]\n",
      " [4 5 6]]\n",
      "\n",
      "B ko answer:\n",
      "\n",
      "Before reversing elements are: [1 2 3 4 5 6 7 8 9]\n",
      "After reversing the order elements are: [9 8 7 6 5 4 3 2 1]\n"
     ]
    }
   ],
   "source": [
    "# a. Extract the first row and last column of 2-dimensional array\n",
    "arr = np.array([[1,2,3],[4,5,6]])\n",
    "print(arr)\n",
    "\n",
    "\n",
    "# b. Reverse the order of elements in 1-dimensional array\n",
    "arr_a = np.array(range(1,10))\n",
    "print(\"\\nB ko answer:\\n\")\n",
    "print(f\"Before reversing elements are: {arr_a}\")\n",
    "\n",
    "print(f\"After reversing the order elements are: {np.flip(arr_a)}\")\n",
    "\n",
    "# c. Select elements from a 2-dimensional array that satisfy a specific condition (e.g., values greater than a certain threshold).\n",
    "print(\"\\nC ko answer:\\n\")\n",
    "\n"
   ]
  },
  {
   "cell_type": "markdown",
   "id": "d549f7f1-37ec-460c-af79-71c5fdb5b2dd",
   "metadata": {},
   "source": [
    "## 4. Array Broadcasting"
   ]
  },
  {
   "cell_type": "code",
   "execution_count": 58,
   "id": "3b0f85af-3c6a-457b-a770-648001c05c8c",
   "metadata": {},
   "outputs": [
    {
     "name": "stdout",
     "output_type": "stream",
     "text": [
      "[[1 2 3]\n",
      " [4 5 6]]\n",
      "\n",
      "B ko answer: \n",
      "[[ 1  4  9]\n",
      " [ 3  8 18]]\n"
     ]
    }
   ],
   "source": [
    "# a. Add a scalar value to each element of a 2-dimensional array.\n",
    "scalar_value = np.array([[1,2,3],[4,5,6]])\n",
    "print(scalar_value)\n",
    "\n",
    "print(\"\\nB ko answer: \")\n",
    "one_dim_arr = np.array([1,2,3])\n",
    "two_dim_arr = np.array([[1,2,3],[3,4,6]])\n",
    "mul_arr = one_dim_arr * two_dim_arr\n",
    "print(mul_arr)\n"
   ]
  },
  {
   "cell_type": "markdown",
   "id": "95c6f8ba-d68d-4117-8377-f9a6c67e8ee3",
   "metadata": {},
   "source": [
    "# Question to ask sir.\n",
    "3. a, c\n",
    "4. meaning of scalar value\n",
    "5. why the answer is different in question no b ?, what is the inverse and determinant of a square matrix?\n",
    "6. "
   ]
  },
  {
   "cell_type": "markdown",
   "id": "84741a12-e1f5-4444-8faf-5358e8101765",
   "metadata": {},
   "source": [
    "## 5. Linear Algebra"
   ]
  },
  {
   "cell_type": "code",
   "execution_count": 76,
   "id": "dfb308c2-7989-47e5-ab55-03f5b1876e51",
   "metadata": {},
   "outputs": [
    {
     "name": "stdout",
     "output_type": "stream",
     "text": [
      "The dot product: 14\n",
      "\n",
      "B ko answer\n",
      "[[ 5 12]\n",
      " [21 32]]\n",
      "Multiplication is: [[19 22]\n",
      " [43 50]]\n",
      "\n",
      "C ko answer\n",
      "The inverse is: [[-3.  2.]\n",
      " [ 2. -1.]]\n",
      "The determinant is: -1.0\n"
     ]
    }
   ],
   "source": [
    "# a. Calculate the dot product of two 1-dimensional array\n",
    "one_arr = np.array(range(1,3))\n",
    "two_arr = np.array(range(4,6))\n",
    "print(f\"The dot product: {np.dot(one_arr,two_arr)}\")\n",
    "\n",
    "# b. Compute the matrix multiplication of two 2-dimensional array\n",
    "print(\"\\nB ko answer\")\n",
    "first_two_arr = np.array([[1,2],[3,4]])\n",
    "sec_two_arr = np.array([[5,6],[7,8]])\n",
    "mul_val = first_two_arr * sec_two_arr\n",
    "print(mul_val)\n",
    "\n",
    "print(f\"Multiplication is: {np.matmul(first_two_arr,sec_two_arr)}\")\n",
    "\n",
    "# c. Find the inverse and determinant of a square matrix\n",
    "print(\"\\nC ko answer\")\n",
    "sq_mat = np.array([[1,2],[2,3]])\n",
    "print(f\"The inverse is: {np.linalg.inv(sq_mat)}\")\n",
    "\n",
    "print(f\"The determinant is: {np.linalg.det(sq_mat)}\")"
   ]
  },
  {
   "cell_type": "code",
   "execution_count": null,
   "id": "ba68ed2b-9c5c-4800-9215-7f4b9ecd7cbd",
   "metadata": {},
   "outputs": [],
   "source": []
  }
 ],
 "metadata": {
  "kernelspec": {
   "display_name": "Python 3 (ipykernel)",
   "language": "python",
   "name": "python3"
  },
  "language_info": {
   "codemirror_mode": {
    "name": "ipython",
    "version": 3
   },
   "file_extension": ".py",
   "mimetype": "text/x-python",
   "name": "python",
   "nbconvert_exporter": "python",
   "pygments_lexer": "ipython3",
   "version": "3.11.7"
  }
 },
 "nbformat": 4,
 "nbformat_minor": 5
}
