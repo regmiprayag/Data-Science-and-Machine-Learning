{
 "cells": [
  {
   "cell_type": "code",
   "execution_count": 7,
   "id": "9a1af02d-6c09-48f4-8f99-8d575ce93dc0",
   "metadata": {},
   "outputs": [
    {
     "data": {
      "text/html": [
       "<div>\n",
       "<style scoped>\n",
       "    .dataframe tbody tr th:only-of-type {\n",
       "        vertical-align: middle;\n",
       "    }\n",
       "\n",
       "    .dataframe tbody tr th {\n",
       "        vertical-align: top;\n",
       "    }\n",
       "\n",
       "    .dataframe thead th {\n",
       "        text-align: right;\n",
       "    }\n",
       "</style>\n",
       "<table border=\"1\" class=\"dataframe\">\n",
       "  <thead>\n",
       "    <tr style=\"text-align: right;\">\n",
       "      <th></th>\n",
       "      <th>hotel</th>\n",
       "      <th>is_canceled</th>\n",
       "      <th>lead_time</th>\n",
       "      <th>arrival_date_year</th>\n",
       "      <th>arrival_date_month</th>\n",
       "      <th>arrival_date_week_number</th>\n",
       "      <th>arrival_date_day_of_month</th>\n",
       "      <th>stays_in_weekend_nights</th>\n",
       "      <th>stays_in_week_nights</th>\n",
       "      <th>adults</th>\n",
       "      <th>...</th>\n",
       "      <th>deposit_type</th>\n",
       "      <th>agent</th>\n",
       "      <th>company</th>\n",
       "      <th>days_in_waiting_list</th>\n",
       "      <th>customer_type</th>\n",
       "      <th>adr</th>\n",
       "      <th>required_car_parking_spaces</th>\n",
       "      <th>total_of_special_requests</th>\n",
       "      <th>reservation_status</th>\n",
       "      <th>reservation_status_date</th>\n",
       "    </tr>\n",
       "  </thead>\n",
       "  <tbody>\n",
       "    <tr>\n",
       "      <th>0</th>\n",
       "      <td>Resort Hotel</td>\n",
       "      <td>0</td>\n",
       "      <td>342</td>\n",
       "      <td>2015</td>\n",
       "      <td>July</td>\n",
       "      <td>27</td>\n",
       "      <td>1</td>\n",
       "      <td>0</td>\n",
       "      <td>0</td>\n",
       "      <td>2.0</td>\n",
       "      <td>...</td>\n",
       "      <td>No Deposit</td>\n",
       "      <td>NaN</td>\n",
       "      <td>NaN</td>\n",
       "      <td>0</td>\n",
       "      <td>Transient</td>\n",
       "      <td>0.00</td>\n",
       "      <td>0</td>\n",
       "      <td>0</td>\n",
       "      <td>Check-Out</td>\n",
       "      <td>01/07/2015</td>\n",
       "    </tr>\n",
       "    <tr>\n",
       "      <th>1</th>\n",
       "      <td>Resort Hotel</td>\n",
       "      <td>0</td>\n",
       "      <td>737</td>\n",
       "      <td>2015</td>\n",
       "      <td>July</td>\n",
       "      <td>27</td>\n",
       "      <td>1</td>\n",
       "      <td>0</td>\n",
       "      <td>0</td>\n",
       "      <td>2.0</td>\n",
       "      <td>...</td>\n",
       "      <td>No Deposit</td>\n",
       "      <td>NaN</td>\n",
       "      <td>NaN</td>\n",
       "      <td>0</td>\n",
       "      <td>Transient</td>\n",
       "      <td>0.00</td>\n",
       "      <td>0</td>\n",
       "      <td>0</td>\n",
       "      <td>Check-Out</td>\n",
       "      <td>01/07/2015</td>\n",
       "    </tr>\n",
       "    <tr>\n",
       "      <th>2</th>\n",
       "      <td>Resort Hotel</td>\n",
       "      <td>0</td>\n",
       "      <td>7</td>\n",
       "      <td>2015</td>\n",
       "      <td>July</td>\n",
       "      <td>27</td>\n",
       "      <td>1</td>\n",
       "      <td>0</td>\n",
       "      <td>1</td>\n",
       "      <td>1.0</td>\n",
       "      <td>...</td>\n",
       "      <td>No Deposit</td>\n",
       "      <td>NaN</td>\n",
       "      <td>NaN</td>\n",
       "      <td>0</td>\n",
       "      <td>Transient</td>\n",
       "      <td>75.00</td>\n",
       "      <td>0</td>\n",
       "      <td>0</td>\n",
       "      <td>Check-Out</td>\n",
       "      <td>02/07/2015</td>\n",
       "    </tr>\n",
       "    <tr>\n",
       "      <th>3</th>\n",
       "      <td>Resort Hotel</td>\n",
       "      <td>0</td>\n",
       "      <td>13</td>\n",
       "      <td>2015</td>\n",
       "      <td>July</td>\n",
       "      <td>27</td>\n",
       "      <td>1</td>\n",
       "      <td>0</td>\n",
       "      <td>1</td>\n",
       "      <td>1.0</td>\n",
       "      <td>...</td>\n",
       "      <td>No Deposit</td>\n",
       "      <td>304.0</td>\n",
       "      <td>NaN</td>\n",
       "      <td>0</td>\n",
       "      <td>Transient</td>\n",
       "      <td>75.00</td>\n",
       "      <td>0</td>\n",
       "      <td>0</td>\n",
       "      <td>Check-Out</td>\n",
       "      <td>02/07/2015</td>\n",
       "    </tr>\n",
       "    <tr>\n",
       "      <th>4</th>\n",
       "      <td>Resort Hotel</td>\n",
       "      <td>0</td>\n",
       "      <td>14</td>\n",
       "      <td>2015</td>\n",
       "      <td>July</td>\n",
       "      <td>27</td>\n",
       "      <td>1</td>\n",
       "      <td>0</td>\n",
       "      <td>2</td>\n",
       "      <td>2.0</td>\n",
       "      <td>...</td>\n",
       "      <td>No Deposit</td>\n",
       "      <td>240.0</td>\n",
       "      <td>NaN</td>\n",
       "      <td>0</td>\n",
       "      <td>Transient</td>\n",
       "      <td>98.00</td>\n",
       "      <td>0</td>\n",
       "      <td>1</td>\n",
       "      <td>Check-Out</td>\n",
       "      <td>03/07/2015</td>\n",
       "    </tr>\n",
       "    <tr>\n",
       "      <th>...</th>\n",
       "      <td>...</td>\n",
       "      <td>...</td>\n",
       "      <td>...</td>\n",
       "      <td>...</td>\n",
       "      <td>...</td>\n",
       "      <td>...</td>\n",
       "      <td>...</td>\n",
       "      <td>...</td>\n",
       "      <td>...</td>\n",
       "      <td>...</td>\n",
       "      <td>...</td>\n",
       "      <td>...</td>\n",
       "      <td>...</td>\n",
       "      <td>...</td>\n",
       "      <td>...</td>\n",
       "      <td>...</td>\n",
       "      <td>...</td>\n",
       "      <td>...</td>\n",
       "      <td>...</td>\n",
       "      <td>...</td>\n",
       "      <td>...</td>\n",
       "    </tr>\n",
       "    <tr>\n",
       "      <th>119385</th>\n",
       "      <td>City Hotel</td>\n",
       "      <td>0</td>\n",
       "      <td>23</td>\n",
       "      <td>2017</td>\n",
       "      <td>August</td>\n",
       "      <td>35</td>\n",
       "      <td>30</td>\n",
       "      <td>2</td>\n",
       "      <td>5</td>\n",
       "      <td>2.0</td>\n",
       "      <td>...</td>\n",
       "      <td>No Deposit</td>\n",
       "      <td>394.0</td>\n",
       "      <td>NaN</td>\n",
       "      <td>0</td>\n",
       "      <td>Transient</td>\n",
       "      <td>96.14</td>\n",
       "      <td>0</td>\n",
       "      <td>0</td>\n",
       "      <td>Check-Out</td>\n",
       "      <td>06/09/2017</td>\n",
       "    </tr>\n",
       "    <tr>\n",
       "      <th>119386</th>\n",
       "      <td>City Hotel</td>\n",
       "      <td>0</td>\n",
       "      <td>102</td>\n",
       "      <td>2017</td>\n",
       "      <td>August</td>\n",
       "      <td>35</td>\n",
       "      <td>31</td>\n",
       "      <td>2</td>\n",
       "      <td>5</td>\n",
       "      <td>3.0</td>\n",
       "      <td>...</td>\n",
       "      <td>No Deposit</td>\n",
       "      <td>9.0</td>\n",
       "      <td>NaN</td>\n",
       "      <td>0</td>\n",
       "      <td>Transient</td>\n",
       "      <td>225.43</td>\n",
       "      <td>0</td>\n",
       "      <td>2</td>\n",
       "      <td>Check-Out</td>\n",
       "      <td>07/09/2017</td>\n",
       "    </tr>\n",
       "    <tr>\n",
       "      <th>119387</th>\n",
       "      <td>City Hotel</td>\n",
       "      <td>0</td>\n",
       "      <td>34</td>\n",
       "      <td>2017</td>\n",
       "      <td>August</td>\n",
       "      <td>35</td>\n",
       "      <td>31</td>\n",
       "      <td>2</td>\n",
       "      <td>5</td>\n",
       "      <td>2.0</td>\n",
       "      <td>...</td>\n",
       "      <td>No Deposit</td>\n",
       "      <td>9.0</td>\n",
       "      <td>NaN</td>\n",
       "      <td>0</td>\n",
       "      <td>Transient</td>\n",
       "      <td>157.71</td>\n",
       "      <td>0</td>\n",
       "      <td>4</td>\n",
       "      <td>Check-Out</td>\n",
       "      <td>07/09/2017</td>\n",
       "    </tr>\n",
       "    <tr>\n",
       "      <th>119388</th>\n",
       "      <td>City Hotel</td>\n",
       "      <td>0</td>\n",
       "      <td>109</td>\n",
       "      <td>2017</td>\n",
       "      <td>August</td>\n",
       "      <td>35</td>\n",
       "      <td>31</td>\n",
       "      <td>2</td>\n",
       "      <td>5</td>\n",
       "      <td>2.0</td>\n",
       "      <td>...</td>\n",
       "      <td>No Deposit</td>\n",
       "      <td>89.0</td>\n",
       "      <td>NaN</td>\n",
       "      <td>0</td>\n",
       "      <td>Transient</td>\n",
       "      <td>104.40</td>\n",
       "      <td>0</td>\n",
       "      <td>0</td>\n",
       "      <td>Check-Out</td>\n",
       "      <td>07/09/2017</td>\n",
       "    </tr>\n",
       "    <tr>\n",
       "      <th>119389</th>\n",
       "      <td>City Hotel</td>\n",
       "      <td>0</td>\n",
       "      <td>205</td>\n",
       "      <td>2017</td>\n",
       "      <td>August</td>\n",
       "      <td>35</td>\n",
       "      <td>29</td>\n",
       "      <td>2</td>\n",
       "      <td>7</td>\n",
       "      <td>2.0</td>\n",
       "      <td>...</td>\n",
       "      <td>No Deposit</td>\n",
       "      <td>9.0</td>\n",
       "      <td>NaN</td>\n",
       "      <td>0</td>\n",
       "      <td>Transient</td>\n",
       "      <td>151.20</td>\n",
       "      <td>0</td>\n",
       "      <td>2</td>\n",
       "      <td>Check-Out</td>\n",
       "      <td>07/09/2017</td>\n",
       "    </tr>\n",
       "  </tbody>\n",
       "</table>\n",
       "<p>119390 rows × 32 columns</p>\n",
       "</div>"
      ],
      "text/plain": [
       "               hotel  is_canceled  lead_time  arrival_date_year  \\\n",
       "0       Resort Hotel            0        342               2015   \n",
       "1       Resort Hotel            0        737               2015   \n",
       "2       Resort Hotel            0          7               2015   \n",
       "3       Resort Hotel            0         13               2015   \n",
       "4       Resort Hotel            0         14               2015   \n",
       "...              ...          ...        ...                ...   \n",
       "119385    City Hotel            0         23               2017   \n",
       "119386    City Hotel            0        102               2017   \n",
       "119387    City Hotel            0         34               2017   \n",
       "119388    City Hotel            0        109               2017   \n",
       "119389    City Hotel            0        205               2017   \n",
       "\n",
       "       arrival_date_month  arrival_date_week_number  \\\n",
       "0                    July                        27   \n",
       "1                    July                        27   \n",
       "2                    July                        27   \n",
       "3                    July                        27   \n",
       "4                    July                        27   \n",
       "...                   ...                       ...   \n",
       "119385             August                        35   \n",
       "119386             August                        35   \n",
       "119387             August                        35   \n",
       "119388             August                        35   \n",
       "119389             August                        35   \n",
       "\n",
       "        arrival_date_day_of_month  stays_in_weekend_nights  \\\n",
       "0                               1                        0   \n",
       "1                               1                        0   \n",
       "2                               1                        0   \n",
       "3                               1                        0   \n",
       "4                               1                        0   \n",
       "...                           ...                      ...   \n",
       "119385                         30                        2   \n",
       "119386                         31                        2   \n",
       "119387                         31                        2   \n",
       "119388                         31                        2   \n",
       "119389                         29                        2   \n",
       "\n",
       "        stays_in_week_nights  adults  ...  deposit_type  agent company  \\\n",
       "0                          0     2.0  ...    No Deposit    NaN     NaN   \n",
       "1                          0     2.0  ...    No Deposit    NaN     NaN   \n",
       "2                          1     1.0  ...    No Deposit    NaN     NaN   \n",
       "3                          1     1.0  ...    No Deposit  304.0     NaN   \n",
       "4                          2     2.0  ...    No Deposit  240.0     NaN   \n",
       "...                      ...     ...  ...           ...    ...     ...   \n",
       "119385                     5     2.0  ...    No Deposit  394.0     NaN   \n",
       "119386                     5     3.0  ...    No Deposit    9.0     NaN   \n",
       "119387                     5     2.0  ...    No Deposit    9.0     NaN   \n",
       "119388                     5     2.0  ...    No Deposit   89.0     NaN   \n",
       "119389                     7     2.0  ...    No Deposit    9.0     NaN   \n",
       "\n",
       "       days_in_waiting_list customer_type     adr  \\\n",
       "0                         0     Transient    0.00   \n",
       "1                         0     Transient    0.00   \n",
       "2                         0     Transient   75.00   \n",
       "3                         0     Transient   75.00   \n",
       "4                         0     Transient   98.00   \n",
       "...                     ...           ...     ...   \n",
       "119385                    0     Transient   96.14   \n",
       "119386                    0     Transient  225.43   \n",
       "119387                    0     Transient  157.71   \n",
       "119388                    0     Transient  104.40   \n",
       "119389                    0     Transient  151.20   \n",
       "\n",
       "        required_car_parking_spaces  total_of_special_requests  \\\n",
       "0                                 0                          0   \n",
       "1                                 0                          0   \n",
       "2                                 0                          0   \n",
       "3                                 0                          0   \n",
       "4                                 0                          1   \n",
       "...                             ...                        ...   \n",
       "119385                            0                          0   \n",
       "119386                            0                          2   \n",
       "119387                            0                          4   \n",
       "119388                            0                          0   \n",
       "119389                            0                          2   \n",
       "\n",
       "        reservation_status reservation_status_date  \n",
       "0                Check-Out              01/07/2015  \n",
       "1                Check-Out              01/07/2015  \n",
       "2                Check-Out              02/07/2015  \n",
       "3                Check-Out              02/07/2015  \n",
       "4                Check-Out              03/07/2015  \n",
       "...                    ...                     ...  \n",
       "119385           Check-Out              06/09/2017  \n",
       "119386           Check-Out              07/09/2017  \n",
       "119387           Check-Out              07/09/2017  \n",
       "119388           Check-Out              07/09/2017  \n",
       "119389           Check-Out              07/09/2017  \n",
       "\n",
       "[119390 rows x 32 columns]"
      ]
     },
     "execution_count": 7,
     "metadata": {},
     "output_type": "execute_result"
    }
   ],
   "source": [
    "import pandas as pd\n",
    "\n",
    "data = pd.read_csv(\"/Users/prayagregmi/Downloads/hotel_bookings.csv\")\n",
    "\n",
    "data"
   ]
  },
  {
   "cell_type": "code",
   "execution_count": 53,
   "id": "6227726c-cacc-49b1-b19b-1f8806a9de7e",
   "metadata": {},
   "outputs": [
    {
     "data": {
      "text/plain": [
       "hotel                             0\n",
       "is_canceled                       0\n",
       "lead_time                         0\n",
       "arrival_date_year                 0\n",
       "arrival_date_month                0\n",
       "arrival_date_week_number          0\n",
       "arrival_date_day_of_month         0\n",
       "stays_in_weekend_nights           0\n",
       "stays_in_week_nights              0\n",
       "adults                            0\n",
       "children                          0\n",
       "babies                            0\n",
       "meal                              0\n",
       "country                           0\n",
       "market_segment                    0\n",
       "distribution_channel              0\n",
       "is_repeated_guest                 0\n",
       "previous_cancellations            0\n",
       "previous_bookings_not_canceled    0\n",
       "reserved_room_type                0\n",
       "assigned_room_type                0\n",
       "booking_changes                   0\n",
       "deposit_type                      0\n",
       "agent                             0\n",
       "company                           0\n",
       "days_in_waiting_list              0\n",
       "customer_type                     0\n",
       "adr                               0\n",
       "required_car_parking_spaces       0\n",
       "total_of_special_requests         0\n",
       "reservation_status                0\n",
       "reservation_status_date           0\n",
       "dtype: int64"
      ]
     },
     "execution_count": 53,
     "metadata": {},
     "output_type": "execute_result"
    }
   ],
   "source": [
    "data.isna().sum()"
   ]
  },
  {
   "cell_type": "markdown",
   "id": "e789387e-90c8-4a5e-b9cb-ff99dfa720f8",
   "metadata": {},
   "source": [
    "## Handling the missing values of adults."
   ]
  },
  {
   "cell_type": "code",
   "execution_count": 12,
   "id": "d1d35406-e721-48a2-a30d-e12015948e4a",
   "metadata": {},
   "outputs": [],
   "source": [
    "adults_median = data['adults'].median()\n",
    "\n",
    "adults_fill = data['adults'].fillna(adults_median,inplace=True)"
   ]
  },
  {
   "cell_type": "markdown",
   "id": "78a4e75b-9fd8-4044-8485-581814d6dc72",
   "metadata": {},
   "source": [
    "## Handling the missing values of children."
   ]
  },
  {
   "cell_type": "code",
   "execution_count": 13,
   "id": "72c7bbdb-4012-49bb-81c3-f196dd3386ff",
   "metadata": {},
   "outputs": [],
   "source": [
    "children_mean = data['children'].median()\n",
    "children_mean\n",
    "\n",
    "children_fill = data['children'].fillna(children_mean,inplace=True)"
   ]
  },
  {
   "cell_type": "markdown",
   "id": "f7657d6a-2157-4133-9aa5-4e2a7f82f0e3",
   "metadata": {},
   "source": [
    "## Handling the missing country values"
   ]
  },
  {
   "cell_type": "code",
   "execution_count": 14,
   "id": "8a1a41a7-90cc-4f8d-84bd-3d7abea6325e",
   "metadata": {},
   "outputs": [],
   "source": [
    "country_mode = data['country'].mode()[0]\n",
    "country_mode\n",
    "\n",
    "country_fill = data['country'].fillna(country_mode,inplace=True)"
   ]
  },
  {
   "cell_type": "markdown",
   "id": "cd8dabc3-55b2-49fb-acce-7ffdfde9e5c5",
   "metadata": {},
   "source": [
    "## Handling the market segment missing values"
   ]
  },
  {
   "cell_type": "code",
   "execution_count": 15,
   "id": "14f1d6c1-4e64-417d-9d9b-fe349679e5d4",
   "metadata": {},
   "outputs": [],
   "source": [
    "market_mode = data['market_segment'].mode()[0]\n",
    "market_mode\n",
    "\n",
    "market_fill = data['market_segment'].fillna(market_mode,inplace=True)"
   ]
  },
  {
   "cell_type": "markdown",
   "id": "3d6ca8d5-77cd-4d07-8e02-c4fa051ba9f6",
   "metadata": {},
   "source": [
    "## Handling the distribution channel missing values"
   ]
  },
  {
   "cell_type": "code",
   "execution_count": 16,
   "id": "fd637580-264d-476a-b479-c984e3e6c9a6",
   "metadata": {},
   "outputs": [],
   "source": [
    "distributionChannel_mode = data['distribution_channel'].mode()[0]\n",
    "distributionChannel_mode\n",
    "\n",
    "distributionChannel_fill = data['distribution_channel'].fillna(distributionChannel_mode,inplace=True)"
   ]
  },
  {
   "cell_type": "markdown",
   "id": "54ac6a00-df78-4adb-ad63-c5ebe6b7ceab",
   "metadata": {},
   "source": [
    "## Handling the reserved room type as well as assigned room type datas and dropping them"
   ]
  },
  {
   "cell_type": "code",
   "execution_count": 75,
   "id": "18bdb034-f5f8-46d9-b205-6b9288f10001",
   "metadata": {},
   "outputs": [
    {
     "data": {
      "text/plain": [
       "0         C\n",
       "1         C\n",
       "2         A\n",
       "3         A\n",
       "4         A\n",
       "         ..\n",
       "119385    A\n",
       "119386    E\n",
       "119387    D\n",
       "119388    A\n",
       "119389    A\n",
       "Name: reserved_room_type, Length: 119389, dtype: object"
      ]
     },
     "execution_count": 75,
     "metadata": {},
     "output_type": "execute_result"
    }
   ],
   "source": [
    "data['reserved_room_type'].dropna()"
   ]
  },
  {
   "cell_type": "code",
   "execution_count": 52,
   "id": "f58a894b-9e8e-444f-83b3-9fae8e30220f",
   "metadata": {},
   "outputs": [],
   "source": [
    "data.dropna(subset=[\"assigned_room_type\"],inplace=True)"
   ]
  },
  {
   "cell_type": "code",
   "execution_count": 17,
   "id": "edf59c05-768c-4764-bf2e-21d83255ca7c",
   "metadata": {},
   "outputs": [],
   "source": [
    "data.dropna(subset=[\"reserved_room_type\"],inplace=True)"
   ]
  },
  {
   "cell_type": "code",
   "execution_count": 50,
   "id": "6415a734-48a4-4e4d-b6a5-0bc793cb8c92",
   "metadata": {},
   "outputs": [],
   "source": [
    "data.dropna(subset=[\"reservation_status\"],inplace=True)"
   ]
  },
  {
   "cell_type": "markdown",
   "id": "bd5f50e6-9325-4890-b7f7-aa84e1de504c",
   "metadata": {},
   "source": [
    "## Handling the deposit_type missing values"
   ]
  },
  {
   "cell_type": "code",
   "execution_count": 19,
   "id": "ec4e1952-858e-4134-8d37-6590cd5f1652",
   "metadata": {},
   "outputs": [],
   "source": [
    "deposit_value = data['deposit_type'].mode()[0]\n",
    "deposit_value\n",
    "\n",
    "data['deposit_type'].fillna(deposit_value,inplace=True)"
   ]
  },
  {
   "cell_type": "code",
   "execution_count": 20,
   "id": "3284e037-bb8b-4cfe-8ebe-f7d82dbf3657",
   "metadata": {},
   "outputs": [
    {
     "data": {
      "text/plain": [
       "deposit_type\n",
       "No Deposit    104650\n",
       "Non Refund     14576\n",
       "Refundable       162\n",
       "Name: count, dtype: int64"
      ]
     },
     "execution_count": 20,
     "metadata": {},
     "output_type": "execute_result"
    }
   ],
   "source": [
    "data['deposit_type'].value_counts()"
   ]
  },
  {
   "cell_type": "markdown",
   "id": "e3f38a8a-b30c-482a-b8d2-b85016cb4d9b",
   "metadata": {},
   "source": [
    "## Handling the agent missing values"
   ]
  },
  {
   "cell_type": "code",
   "execution_count": 21,
   "id": "e7421002-7841-48ab-b602-ecd2de3e991c",
   "metadata": {},
   "outputs": [],
   "source": [
    "data['agent'].value_counts()\n",
    "\n",
    "agent_median = data['agent'].median()\n",
    "agent_median\n",
    "data['agent'].fillna(agent_median,inplace=True)"
   ]
  },
  {
   "cell_type": "code",
   "execution_count": null,
   "id": "2235bce5-6350-4a4b-a525-939312ca33f3",
   "metadata": {},
   "outputs": [],
   "source": []
  },
  {
   "cell_type": "code",
   "execution_count": 22,
   "id": "bebf3ef5-8597-4b88-ab2e-85fe2d676c25",
   "metadata": {},
   "outputs": [],
   "source": [
    "data['customer_type'].value_counts()\n",
    "\n",
    "agent_median = data['customer_type'].mode()[0]\n",
    "agent_median\n",
    "data['customer_type'].fillna(agent_median,inplace=True)"
   ]
  },
  {
   "cell_type": "code",
   "execution_count": null,
   "id": "0376fea4-fedd-47f1-833f-bb6d49853075",
   "metadata": {},
   "outputs": [],
   "source": []
  },
  {
   "cell_type": "code",
   "execution_count": 23,
   "id": "5e1d0240-620c-422f-be88-78be57f76660",
   "metadata": {},
   "outputs": [],
   "source": [
    "data['company'].value_counts()\n",
    "\n",
    "agent_median = data['company'].median()\n",
    "agent_median\n",
    "data['company'].fillna(agent_median,inplace=True)"
   ]
  },
  {
   "cell_type": "code",
   "execution_count": null,
   "id": "66ba1060-d7cb-46f6-90d3-b58c0693829c",
   "metadata": {},
   "outputs": [],
   "source": []
  },
  {
   "cell_type": "code",
   "execution_count": null,
   "id": "09ef0fba-ade5-4b9f-8158-0d5ec7365e71",
   "metadata": {},
   "outputs": [],
   "source": [
    "Calculate summary statistics (mean, median, mode, standard deviation, etc.) for  numerical columns like lead_time, stays_in_weekend_nights, \n",
    "stays_in_week_nights, adults, children, babies, previous_cancellations,  previous_bookings_not_canceled, days_in_waiting_list, adr,  \n",
    "required_car_parking_spaces, and total_of_special_requests. "
   ]
  },
  {
   "cell_type": "markdown",
   "id": "7648d580-ea29-4cdc-a368-5fe6bc0714ff",
   "metadata": {},
   "source": [
    "# 2.Descriptive Statistics"
   ]
  },
  {
   "cell_type": "code",
   "execution_count": 24,
   "id": "cb06947d-1f45-4916-871e-6ede7d99a194",
   "metadata": {},
   "outputs": [
    {
     "name": "stdout",
     "output_type": "stream",
     "text": [
      "The mean value of lead_time is:  104.01219553053909\n",
      "The median value is:  69.0\n",
      "The mode value is:  0\n",
      "\n",
      "\n",
      "The mean value of lead_time is:  0.9275890374241967\n",
      "The median value is:  1.0\n",
      "The mode value is:  0\n",
      "\n",
      "\n",
      "The mean value of lead_time is:  2.500293161791805\n",
      "The median value is:  2.0\n",
      "The mode value is:  2\n",
      "\n",
      "\n"
     ]
    },
    {
     "data": {
      "text/plain": [
       "2.0"
      ]
     },
     "execution_count": 24,
     "metadata": {},
     "output_type": "execute_result"
    }
   ],
   "source": [
    "# Calculation of mean,median,mode,sd of the following columns.\n",
    "# a. Leat_time\n",
    "leat_time_mean = data['lead_time'].mean()\n",
    "print(f\"The mean value of lead_time is: \",leat_time_mean)\n",
    "\n",
    "leat_time_median = data['lead_time'].median()\n",
    "print(\"The median value is: \",leat_time_median)\n",
    "\n",
    "leat_time_mode = data['lead_time'].mode()[0]\n",
    "print(\"The mode value is: \",leat_time_mode)\n",
    "\n",
    "# b. Stays_in_weeking_nights\n",
    "print(\"\\n\")\n",
    "leat_time_mean = data['stays_in_weekend_nights'].mean()\n",
    "print(f\"The mean value of lead_time is: \",leat_time_mean)\n",
    "\n",
    "leat_time_median = data['stays_in_weekend_nights'].median()\n",
    "print(\"The median value is: \",leat_time_median)\n",
    "\n",
    "leat_time_mode = data['stays_in_weekend_nights'].mode()[0]\n",
    "print(\"The mode value is: \",leat_time_mode)\n",
    "\n",
    "# c. Stays_in_week_nights\n",
    "print(\"\\n\")\n",
    "leat_time_mean = data['stays_in_week_nights'].mean()\n",
    "print(f\"The mean value of lead_time is: \",leat_time_mean)\n",
    "\n",
    "leat_time_median = data['stays_in_week_nights'].median()\n",
    "print(\"The median value is: \",leat_time_median)\n",
    "\n",
    "leat_time_mode = data['stays_in_week_nights'].mode()[0]\n",
    "print(\"The mode value is: \",leat_time_mode)\n",
    "\n",
    "# d. Adults, childrens, babies\n",
    "print(\"\\n\")\n",
    "adults_mean = data['adults'].median()\n",
    "adults_mean\n",
    "# print(f\"The mean value of lead_time is: \",leat_time_mean)\n",
    "\n",
    "# leat_time_median = data['stays_in_week_nights'].median()\n",
    "# print(\"The median value is: \",leat_time_median)\n",
    "\n",
    "# leat_time_mode = data['stays_in_week_nights'].mode()[0]\n",
    "# print(\"The mode value is: \",leat_time_mode)\n",
    "\n"
   ]
  },
  {
   "cell_type": "code",
   "execution_count": null,
   "id": "f0349316-c94a-419f-becb-95cafd375821",
   "metadata": {},
   "outputs": [],
   "source": [
    "# B\n",
    "Display value counts and frequencies for categorical columns like hotel, country,  market_segment, distribution_channel, is_repeated_guest,\n",
    "reserved_room_type,  assigned_room_type, deposit_type, agent, company, customer_type,  reservation_status. "
   ]
  },
  {
   "cell_type": "code",
   "execution_count": 179,
   "id": "ae15988e-1a43-4ece-8c31-d7e31356c817",
   "metadata": {},
   "outputs": [
    {
     "name": "stdout",
     "output_type": "stream",
     "text": [
      "The value counts and frequencies of Different categories are: \n",
      "\n",
      "\n"
     ]
    },
    {
     "data": {
      "text/plain": [
       "country\n",
       "PRT    49074\n",
       "GBR    12129\n",
       "FRA    10415\n",
       "ESP     8568\n",
       "DEU     7287\n",
       "Name: count, dtype: int64"
      ]
     },
     "execution_count": 179,
     "metadata": {},
     "output_type": "execute_result"
    }
   ],
   "source": [
    "print(\"The value counts and frequencies of Different categories are: \")\n",
    "data['hotel'].value_counts()\n",
    "\n",
    "print(\"\\n\")\n",
    "data['country'].value_counts().head()"
   ]
  },
  {
   "cell_type": "code",
   "execution_count": 4,
   "id": "b5cb5379-5d03-46bb-a2d9-1dd920181c1d",
   "metadata": {},
   "outputs": [],
   "source": [
    "import matplotlib.pyplot as plt\n",
    "import numpy as np"
   ]
  },
  {
   "cell_type": "code",
   "execution_count": null,
   "id": "0e039d4d-d66d-48d9-9f32-36aef32a5354",
   "metadata": {},
   "outputs": [],
   "source": [
    "# Creating histogram for is_cancelled and arrival_date_year\n",
    "is_canceled = data['is_canceled']\n",
    "# print(is_canceled)\n",
    "\n",
    "arrival_date_year = data['arrival_date_year']\n",
    "# print(arrival_date_year)\n",
    "plt.bar(is_canceled,arrival_date_year)"
   ]
  },
  {
   "cell_type": "code",
   "execution_count": null,
   "id": "85146046-4baf-4653-b592-7a3d0d61abe6",
   "metadata": {},
   "outputs": [],
   "source": []
  },
  {
   "cell_type": "code",
   "execution_count": null,
   "id": "11b30c13-87fb-435d-b5d3-745302dbd35d",
   "metadata": {},
   "outputs": [],
   "source": [
    "print(\"hii\")"
   ]
  },
  {
   "cell_type": "code",
   "execution_count": 46,
   "id": "6205d781-d66a-4fdb-9ec6-c30fd4cff6ca",
   "metadata": {},
   "outputs": [
    {
     "name": "stdout",
     "output_type": "stream",
     "text": [
      "hello\n"
     ]
    }
   ],
   "source": [
    "print(\"hello\")"
   ]
  },
  {
   "cell_type": "code",
   "execution_count": null,
   "id": "3f73a19f-a3dc-437c-8ea9-7263bdae3e3a",
   "metadata": {},
   "outputs": [],
   "source": []
  },
  {
   "cell_type": "code",
   "execution_count": null,
   "id": "3055e483-3d90-4076-9844-2b1a3dcdfa8b",
   "metadata": {},
   "outputs": [],
   "source": []
  },
  {
   "cell_type": "code",
   "execution_count": null,
   "id": "56ef2ee4-1d62-4c9c-8c69-b9348c8a5d71",
   "metadata": {},
   "outputs": [],
   "source": []
  }
 ],
 "metadata": {
  "kernelspec": {
   "display_name": "Python 3 (ipykernel)",
   "language": "python",
   "name": "python3"
  },
  "language_info": {
   "codemirror_mode": {
    "name": "ipython",
    "version": 3
   },
   "file_extension": ".py",
   "mimetype": "text/x-python",
   "name": "python",
   "nbconvert_exporter": "python",
   "pygments_lexer": "ipython3",
   "version": "3.11.7"
  }
 },
 "nbformat": 4,
 "nbformat_minor": 5
}
