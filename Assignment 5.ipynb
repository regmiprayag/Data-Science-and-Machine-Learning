{
 "cells": [
  {
   "cell_type": "code",
   "execution_count": 1,
   "id": "4d74c110-7b1e-4551-be37-474a45a7801e",
   "metadata": {},
   "outputs": [],
   "source": [
    "import pandas as pd\n",
    "import numpy as np\n",
    "import matplotlib.pyplot as plt\n",
    "import seaborn as sns"
   ]
  },
  {
   "cell_type": "code",
   "execution_count": 74,
   "id": "f008c227-7136-41b7-ab76-12103b132617",
   "metadata": {},
   "outputs": [
    {
     "data": {
      "text/html": [
       "<div>\n",
       "<style scoped>\n",
       "    .dataframe tbody tr th:only-of-type {\n",
       "        vertical-align: middle;\n",
       "    }\n",
       "\n",
       "    .dataframe tbody tr th {\n",
       "        vertical-align: top;\n",
       "    }\n",
       "\n",
       "    .dataframe thead th {\n",
       "        text-align: right;\n",
       "    }\n",
       "</style>\n",
       "<table border=\"1\" class=\"dataframe\">\n",
       "  <thead>\n",
       "    <tr style=\"text-align: right;\">\n",
       "      <th></th>\n",
       "      <th>car_ID</th>\n",
       "      <th>symboling</th>\n",
       "      <th>CarName</th>\n",
       "      <th>fueltype</th>\n",
       "      <th>aspiration</th>\n",
       "      <th>doornumber</th>\n",
       "      <th>carbody</th>\n",
       "      <th>drivewheel</th>\n",
       "      <th>enginelocation</th>\n",
       "      <th>wheelbase</th>\n",
       "      <th>...</th>\n",
       "      <th>enginesize</th>\n",
       "      <th>fuelsystem</th>\n",
       "      <th>boreratio</th>\n",
       "      <th>stroke</th>\n",
       "      <th>compressionratio</th>\n",
       "      <th>horsepower</th>\n",
       "      <th>peakrpm</th>\n",
       "      <th>citympg</th>\n",
       "      <th>highwaympg</th>\n",
       "      <th>price</th>\n",
       "    </tr>\n",
       "  </thead>\n",
       "  <tbody>\n",
       "    <tr>\n",
       "      <th>0</th>\n",
       "      <td>1</td>\n",
       "      <td>3</td>\n",
       "      <td>alfa-romero giulia</td>\n",
       "      <td>gas</td>\n",
       "      <td>std</td>\n",
       "      <td>two</td>\n",
       "      <td>convertible</td>\n",
       "      <td>rwd</td>\n",
       "      <td>front</td>\n",
       "      <td>88.6</td>\n",
       "      <td>...</td>\n",
       "      <td>130</td>\n",
       "      <td>mpfi</td>\n",
       "      <td>3.47</td>\n",
       "      <td>2.68</td>\n",
       "      <td>9.0</td>\n",
       "      <td>111</td>\n",
       "      <td>5000</td>\n",
       "      <td>21</td>\n",
       "      <td>27</td>\n",
       "      <td>13495.0</td>\n",
       "    </tr>\n",
       "    <tr>\n",
       "      <th>1</th>\n",
       "      <td>2</td>\n",
       "      <td>3</td>\n",
       "      <td>alfa-romero stelvio</td>\n",
       "      <td>gas</td>\n",
       "      <td>std</td>\n",
       "      <td>two</td>\n",
       "      <td>convertible</td>\n",
       "      <td>rwd</td>\n",
       "      <td>front</td>\n",
       "      <td>88.6</td>\n",
       "      <td>...</td>\n",
       "      <td>130</td>\n",
       "      <td>mpfi</td>\n",
       "      <td>3.47</td>\n",
       "      <td>2.68</td>\n",
       "      <td>9.0</td>\n",
       "      <td>111</td>\n",
       "      <td>5000</td>\n",
       "      <td>21</td>\n",
       "      <td>27</td>\n",
       "      <td>16500.0</td>\n",
       "    </tr>\n",
       "    <tr>\n",
       "      <th>2</th>\n",
       "      <td>3</td>\n",
       "      <td>1</td>\n",
       "      <td>alfa-romero Quadrifoglio</td>\n",
       "      <td>gas</td>\n",
       "      <td>std</td>\n",
       "      <td>two</td>\n",
       "      <td>hatchback</td>\n",
       "      <td>rwd</td>\n",
       "      <td>front</td>\n",
       "      <td>94.5</td>\n",
       "      <td>...</td>\n",
       "      <td>152</td>\n",
       "      <td>mpfi</td>\n",
       "      <td>2.68</td>\n",
       "      <td>3.47</td>\n",
       "      <td>9.0</td>\n",
       "      <td>154</td>\n",
       "      <td>5000</td>\n",
       "      <td>19</td>\n",
       "      <td>26</td>\n",
       "      <td>16500.0</td>\n",
       "    </tr>\n",
       "    <tr>\n",
       "      <th>3</th>\n",
       "      <td>4</td>\n",
       "      <td>2</td>\n",
       "      <td>NaN</td>\n",
       "      <td>gas</td>\n",
       "      <td>std</td>\n",
       "      <td>four</td>\n",
       "      <td>sedan</td>\n",
       "      <td>fwd</td>\n",
       "      <td>front</td>\n",
       "      <td>99.8</td>\n",
       "      <td>...</td>\n",
       "      <td>109</td>\n",
       "      <td>mpfi</td>\n",
       "      <td>3.19</td>\n",
       "      <td>3.40</td>\n",
       "      <td>10.0</td>\n",
       "      <td>102</td>\n",
       "      <td>5500</td>\n",
       "      <td>24</td>\n",
       "      <td>30</td>\n",
       "      <td>13950.0</td>\n",
       "    </tr>\n",
       "    <tr>\n",
       "      <th>4</th>\n",
       "      <td>5</td>\n",
       "      <td>2</td>\n",
       "      <td>NaN</td>\n",
       "      <td>gas</td>\n",
       "      <td>std</td>\n",
       "      <td>four</td>\n",
       "      <td>sedan</td>\n",
       "      <td>4wd</td>\n",
       "      <td>front</td>\n",
       "      <td>99.4</td>\n",
       "      <td>...</td>\n",
       "      <td>136</td>\n",
       "      <td>mpfi</td>\n",
       "      <td>3.19</td>\n",
       "      <td>3.40</td>\n",
       "      <td>8.0</td>\n",
       "      <td>115</td>\n",
       "      <td>5500</td>\n",
       "      <td>18</td>\n",
       "      <td>22</td>\n",
       "      <td>17450.0</td>\n",
       "    </tr>\n",
       "  </tbody>\n",
       "</table>\n",
       "<p>5 rows × 26 columns</p>\n",
       "</div>"
      ],
      "text/plain": [
       "   car_ID  symboling                   CarName fueltype aspiration doornumber  \\\n",
       "0       1          3        alfa-romero giulia      gas        std        two   \n",
       "1       2          3       alfa-romero stelvio      gas        std        two   \n",
       "2       3          1  alfa-romero Quadrifoglio      gas        std        two   \n",
       "3       4          2                       NaN      gas        std       four   \n",
       "4       5          2                       NaN      gas        std       four   \n",
       "\n",
       "       carbody drivewheel enginelocation  wheelbase  ...  enginesize  \\\n",
       "0  convertible        rwd          front       88.6  ...         130   \n",
       "1  convertible        rwd          front       88.6  ...         130   \n",
       "2    hatchback        rwd          front       94.5  ...         152   \n",
       "3        sedan        fwd          front       99.8  ...         109   \n",
       "4        sedan        4wd          front       99.4  ...         136   \n",
       "\n",
       "   fuelsystem  boreratio  stroke compressionratio horsepower  peakrpm citympg  \\\n",
       "0        mpfi       3.47    2.68              9.0        111     5000      21   \n",
       "1        mpfi       3.47    2.68              9.0        111     5000      21   \n",
       "2        mpfi       2.68    3.47              9.0        154     5000      19   \n",
       "3        mpfi       3.19    3.40             10.0        102     5500      24   \n",
       "4        mpfi       3.19    3.40              8.0        115     5500      18   \n",
       "\n",
       "   highwaympg    price  \n",
       "0          27  13495.0  \n",
       "1          27  16500.0  \n",
       "2          26  16500.0  \n",
       "3          30  13950.0  \n",
       "4          22  17450.0  \n",
       "\n",
       "[5 rows x 26 columns]"
      ]
     },
     "execution_count": 74,
     "metadata": {},
     "output_type": "execute_result"
    }
   ],
   "source": [
    "df = pd.read_csv(\"/Users/prayagregmi/Downloads/carPrice3.csv\")\n",
    "df.head()"
   ]
  },
  {
   "cell_type": "markdown",
   "id": "0431eeec-1774-4444-a0dc-64aafca9b262",
   "metadata": {},
   "source": [
    "### Checking the number of columns and rows in the dataset"
   ]
  },
  {
   "cell_type": "code",
   "execution_count": 82,
   "id": "97ca3d9f-411d-48f1-8416-834a8f5e7c88",
   "metadata": {},
   "outputs": [
    {
     "name": "stdout",
     "output_type": "stream",
     "text": [
      "<class 'pandas.core.frame.DataFrame'>\n",
      "Index: 202 entries, 0 to 204\n",
      "Data columns (total 26 columns):\n",
      " #   Column            Non-Null Count  Dtype  \n",
      "---  ------            --------------  -----  \n",
      " 0   car_ID            202 non-null    int64  \n",
      " 1   symboling         202 non-null    int64  \n",
      " 2   CarName           202 non-null    object \n",
      " 3   fueltype          202 non-null    object \n",
      " 4   aspiration        202 non-null    object \n",
      " 5   doornumber        202 non-null    object \n",
      " 6   carbody           202 non-null    object \n",
      " 7   drivewheel        202 non-null    object \n",
      " 8   enginelocation    202 non-null    object \n",
      " 9   wheelbase         202 non-null    float64\n",
      " 10  carlength         202 non-null    float64\n",
      " 11  carwidth          202 non-null    float64\n",
      " 12  carheight         202 non-null    float64\n",
      " 13  curbweight        202 non-null    int64  \n",
      " 14  enginetype        202 non-null    object \n",
      " 15  cylindernumber    202 non-null    object \n",
      " 16  enginesize        202 non-null    int64  \n",
      " 17  fuelsystem        202 non-null    object \n",
      " 18  boreratio         202 non-null    float64\n",
      " 19  stroke            202 non-null    float64\n",
      " 20  compressionratio  202 non-null    float64\n",
      " 21  horsepower        202 non-null    int64  \n",
      " 22  peakrpm           202 non-null    int64  \n",
      " 23  citympg           202 non-null    int64  \n",
      " 24  highwaympg        202 non-null    int64  \n",
      " 25  price             202 non-null    float64\n",
      "dtypes: float64(8), int64(8), object(10)\n",
      "memory usage: 42.6+ KB\n"
     ]
    }
   ],
   "source": [
    "df.info()"
   ]
  },
  {
   "cell_type": "code",
   "execution_count": 81,
   "id": "8ccd83a4-2ad4-4415-83ed-d6fa39d4872a",
   "metadata": {},
   "outputs": [],
   "source": [
    "# Dropping the cols which have null values\n",
    "df.dropna(inplace=True)"
   ]
  },
  {
   "cell_type": "markdown",
   "id": "5d0075ab-afc2-4986-bd09-0f910f91db03",
   "metadata": {},
   "source": [
    "#### Dropping the columns which are not important to predict the car price"
   ]
  },
  {
   "cell_type": "code",
   "execution_count": 96,
   "id": "05f9d54d-8c47-445b-b589-271ac43110f3",
   "metadata": {},
   "outputs": [],
   "source": [
    "df.drop(columns=['symboling','aspiration','carbody','enginelocation','enginelocation','wheelbase','carwidth','carlength','carheight'],inplace=True)"
   ]
  },
  {
   "cell_type": "code",
   "execution_count": 107,
   "id": "4cfe4b3c-ba32-438c-abb4-05b9c54b6d6d",
   "metadata": {},
   "outputs": [
    {
     "name": "stdout",
     "output_type": "stream",
     "text": [
      "<class 'pandas.core.frame.DataFrame'>\n",
      "Index: 202 entries, 0 to 204\n",
      "Data columns (total 11 columns):\n",
      " #   Column          Non-Null Count  Dtype  \n",
      "---  ------          --------------  -----  \n",
      " 0   CarName         202 non-null    object \n",
      " 1   fueltype        202 non-null    object \n",
      " 2   doornumber      202 non-null    object \n",
      " 3   drivewheel      202 non-null    object \n",
      " 4   enginetype      202 non-null    object \n",
      " 5   cylindernumber  202 non-null    object \n",
      " 6   enginesize      202 non-null    int64  \n",
      " 7   horsepower      202 non-null    int64  \n",
      " 8   citympg         202 non-null    int64  \n",
      " 9   highwaympg      202 non-null    int64  \n",
      " 10  price           202 non-null    float64\n",
      "dtypes: float64(1), int64(4), object(6)\n",
      "memory usage: 18.9+ KB\n"
     ]
    }
   ],
   "source": [
    "df.info()"
   ]
  },
  {
   "cell_type": "markdown",
   "id": "fddc03b3-e418-4f4b-930e-970e63e8d808",
   "metadata": {},
   "source": [
    "#### After dropping multiple columns the data processing part is finished"
   ]
  },
  {
   "cell_type": "code",
   "execution_count": 113,
   "id": "b465615f-9118-4217-8e45-c974b9d900ab",
   "metadata": {},
   "outputs": [],
   "source": []
  },
  {
   "cell_type": "markdown",
   "id": "6a81efa9-2434-4d5d-8020-0784e79cacad",
   "metadata": {},
   "source": [
    "## Data Analysis"
   ]
  },
  {
   "cell_type": "code",
   "execution_count": 120,
   "id": "f3c62caf-95cf-4b1c-9eb2-47c5aff577c0",
   "metadata": {},
   "outputs": [
    {
     "name": "stdout",
     "output_type": "stream",
     "text": [
      "Unique values of CarName\n",
      "['alfa-romero giulia' 'alfa-romero stelvio' 'alfa-romero Quadrifoglio'\n",
      " 'audi fox' 'audi 5000' 'audi 4000' 'audi 5000s (diesel)' 'bmw 320i'\n",
      " 'bmw x1' 'bmw x3' 'bmw z4' 'bmw x4' 'bmw x5' 'chevrolet impala'\n",
      " 'chevrolet monte carlo' 'chevrolet vega 2300' 'dodge rampage'\n",
      " 'dodge challenger se' 'dodge d200' 'dodge monaco (sw)'\n",
      " 'dodge colt hardtop' 'dodge colt (sw)' 'dodge coronet custom'\n",
      " 'dodge dart custom' 'dodge coronet custom (sw)' 'honda civic'\n",
      " 'honda civic cvcc' 'honda accord cvcc' 'honda accord lx'\n",
      " 'honda civic 1500 gl' 'honda accord' 'honda civic 1300' 'honda prelude'\n",
      " 'honda civic (auto)' 'isuzu MU-X' 'isuzu D-Max' 'isuzu D-Max V-Cross'\n",
      " 'jaguar xj' 'jaguar xf' 'jaguar xk' 'maxda rx3' 'maxda glc deluxe'\n",
      " 'mazda rx2 coupe' 'mazda rx-4' 'mazda glc deluxe' 'mazda 626' 'mazda glc'\n",
      " 'mazda rx-7 gs' 'mazda glc 4' 'mazda glc custom l' 'mazda glc custom'\n",
      " 'buick electra 225 custom' 'buick century luxus (sw)' 'buick century'\n",
      " 'buick skyhawk' 'buick opel isuzu deluxe' 'buick skylark'\n",
      " 'buick century special' 'buick regal sport coupe (turbo)'\n",
      " 'mercury cougar' 'mitsubishi mirage' 'mitsubishi lancer'\n",
      " 'mitsubishi outlander' 'mitsubishi g4' 'mitsubishi mirage g4'\n",
      " 'mitsubishi montero' 'mitsubishi pajero' 'Nissan versa' 'nissan gt-r'\n",
      " 'nissan rogue' 'nissan latio' 'nissan titan' 'nissan leaf' 'nissan juke'\n",
      " 'nissan note' 'nissan clipper' 'nissan nv200' 'nissan dayz' 'nissan fuga'\n",
      " 'nissan otti' 'nissan teana' 'nissan kicks' 'peugeot 504' 'peugeot 304'\n",
      " 'peugeot 504 (sw)' 'peugeot 604sl' 'peugeot 505s turbo diesel'\n",
      " 'plymouth fury iii' 'plymouth cricket' 'plymouth satellite custom (sw)'\n",
      " 'plymouth fury gran sedan' 'plymouth valiant' 'plymouth duster'\n",
      " 'porsche macan' 'porcshce panamera' 'porsche cayenne' 'porsche boxter'\n",
      " 'renault 12tl' 'renault 5 gtl' 'saab 99e' 'saab 99le' 'saab 99gle'\n",
      " 'subaru' 'subaru dl' 'subaru brz' 'subaru baja' 'subaru r1' 'subaru r2'\n",
      " 'subaru trezia' 'subaru tribeca' 'toyota corona mark ii' 'toyota corona'\n",
      " 'toyota corolla 1200' 'toyota corona hardtop' 'toyota corolla 1600 (sw)'\n",
      " 'toyota carina' 'toyota mark ii' 'toyota corolla'\n",
      " 'toyota corolla liftback' 'toyota celica gt liftback'\n",
      " 'toyota corolla tercel' 'toyota corona liftback' 'toyota starlet'\n",
      " 'toyota tercel' 'toyota cressida' 'toyota celica gt' 'toyouta tercel'\n",
      " 'vokswagen rabbit' 'volkswagen 1131 deluxe sedan' 'volkswagen model 111'\n",
      " 'volkswagen type 3' 'volkswagen 411 (sw)' 'volkswagen super beetle'\n",
      " 'volkswagen dasher' 'vw dasher' 'vw rabbit' 'volkswagen rabbit'\n",
      " 'volkswagen rabbit custom' 'volvo 145e (sw)' 'volvo 144ea' 'volvo 244dl'\n",
      " 'volvo 245' 'volvo 264gl' 'volvo diesel' 'volvo 246']\n",
      "=====\n",
      "\n",
      "Unique values of fueltype\n",
      "['gas' 'diesel']\n",
      "=====\n",
      "\n",
      "Unique values of doornumber\n",
      "['two' 'four']\n",
      "=====\n",
      "\n",
      "Unique values of drivewheel\n",
      "['rwd' 'fwd' '4wd']\n",
      "=====\n",
      "\n",
      "Unique values of enginetype\n",
      "['dohc' 'ohcv' 'ohc' 'l' 'rotor' 'ohcf' 'dohcv']\n",
      "=====\n",
      "\n",
      "Unique values of cylindernumber\n",
      "['four' 'six' 'five' 'three' 'twelve' 'two' 'eight']\n",
      "=====\n",
      "\n",
      "Unique values of enginesize\n",
      "[130 152 136 131 108 164 209  61  90  98 122 156  92  79 110 111 119 258\n",
      " 326  91  70  80 140 134 183 234 308 304  97 103 120 181 151 194 203 132\n",
      " 121 146 171 161 109 141 173 145]\n",
      "=====\n",
      "\n",
      "Unique values of horsepower\n",
      "[111 154 110 140 160 101 121 182  48  70  68 102  88 145  58  76  60  86\n",
      " 100  78  90 176 262 135  84  64 120  72 123 155 184 175 116  69  55  97\n",
      " 152 200  95 142 143 207 288  73  82  94  62  56 112  92 161 156  52  85\n",
      " 114 162 134 106]\n",
      "=====\n",
      "\n",
      "Unique values of citympg\n",
      "[21 19 17 16 23 20 15 47 38 37 31 24 49 30 27 25 13 26 36 22 14 45 28 18\n",
      " 32 35 34 29 33]\n",
      "=====\n",
      "\n",
      "Unique values of highwaympg\n",
      "[27 26 25 20 22 29 28 53 43 41 38 30 24 54 42 34 33 31 19 17 23 32 39 18\n",
      " 16 37 50 36 47 46]\n",
      "=====\n",
      "\n",
      "Unique values of price\n",
      "[13495.    16500.    15250.    18920.    23875.    17859.167 16430.\n",
      " 16925.    20970.    21105.    24565.    30760.    41315.    36880.\n",
      "  5151.     6295.     6575.     5572.     6377.     7957.     6229.\n",
      "  6692.     7609.     8558.     8921.    12964.     6479.     6855.\n",
      "  5399.     6529.     7129.     7295.     7895.     9095.     8845.\n",
      " 10295.    12945.    10345.     6785.     8916.5   11048.    32250.\n",
      " 35550.    36000.     5195.     6095.     6795.     6695.     7395.\n",
      " 10945.    11845.    13645.    15645.     8495.    10595.    10245.\n",
      " 10795.    11245.    18280.    18344.    25552.    28248.    28176.\n",
      " 31600.    34184.    35056.    40960.    45400.    16503.     5389.\n",
      "  6189.     6669.     7689.     9959.     8499.    12629.    14869.\n",
      " 14489.     6989.     8189.     9279.     5499.     7099.     6649.\n",
      "  6849.     7349.     7299.     7799.     7499.     7999.     8249.\n",
      "  8949.     9549.    13499.    14399.    17199.    19699.    18399.\n",
      " 11900.    13200.    12440.    13860.    15580.    16900.    16695.\n",
      " 17075.    16630.    17950.    18150.    12764.    22018.    32528.\n",
      " 34028.    37028.    31400.5    9295.     9895.    11850.    12170.\n",
      " 15040.    15510.    18620.     5118.     7053.     7603.     7126.\n",
      "  7775.     9960.     9233.    11259.     7463.    10198.     8013.\n",
      " 11694.     5348.     6338.     6488.     6918.     7898.     8778.\n",
      "  6938.     7198.     7788.     7738.     8358.     9258.     8058.\n",
      "  8238.     9298.     9538.     8449.     9639.     9989.    11199.\n",
      " 11549.    17669.     8948.    10698.     9988.    10898.    11248.\n",
      " 16558.    15998.    15690.    15750.     7975.     7995.     8195.\n",
      "  9495.     9995.    11595.     9980.    13295.    13845.    12290.\n",
      " 12940.    13415.    15985.    16515.    18420.    18950.    16845.\n",
      " 19045.    21485.    22470.    22625.   ]\n",
      "=====\n",
      "\n"
     ]
    }
   ],
   "source": [
    "for col in df.columns:\n",
    "    print(\"Unique values of \"+col)\n",
    "    print(df[col].unique())\n",
    "    print(\"=====\\n\")"
   ]
  },
  {
   "cell_type": "markdown",
   "id": "f3c0b31f-a4e5-4327-8862-1039e999953d",
   "metadata": {},
   "source": [
    "#### Extracting the car company names"
   ]
  },
  {
   "cell_type": "code",
   "execution_count": 135,
   "id": "36e5e05e-ec2e-4358-9263-796ad6e97c1e",
   "metadata": {},
   "outputs": [],
   "source": [
    "# Since therer are many values of the car we will just extract the carname only\n",
    "def get_brand_name(carname):\n",
    "    carname = carname.split(' ')[0]\n",
    "    return carname"
   ]
  },
  {
   "cell_type": "code",
   "execution_count": 140,
   "id": "1e8bf15e-0a2e-4f57-b8c0-5cfda3d18597",
   "metadata": {},
   "outputs": [
    {
     "data": {
      "text/plain": [
       "'maruti'"
      ]
     },
     "execution_count": 140,
     "metadata": {},
     "output_type": "execute_result"
    }
   ],
   "source": [
    "get_brand_name(\"maruti fox\")"
   ]
  },
  {
   "cell_type": "code",
   "execution_count": 141,
   "id": "1c92244c-97c8-4784-85db-5f5fd5d37261",
   "metadata": {},
   "outputs": [],
   "source": [
    "df['CarName'] = df['CarName'].apply(get_brand_name)"
   ]
  },
  {
   "cell_type": "code",
   "execution_count": 145,
   "id": "7eaf4f26-8916-4ac2-9506-51b52c97874a",
   "metadata": {},
   "outputs": [
    {
     "data": {
      "text/plain": [
       "array(['alfa-romero', 'audi', 'bmw', 'chevrolet', 'dodge', 'honda',\n",
       "       'isuzu', 'jaguar', 'maxda', 'mazda', 'buick', 'mercury',\n",
       "       'mitsubishi', 'Nissan', 'nissan', 'peugeot', 'plymouth', 'porsche',\n",
       "       'porcshce', 'renault', 'saab', 'subaru', 'toyota', 'toyouta',\n",
       "       'vokswagen', 'volkswagen', 'vw', 'volvo'], dtype=object)"
      ]
     },
     "execution_count": 145,
     "metadata": {},
     "output_type": "execute_result"
    }
   ],
   "source": [
    "df['CarName'].unique()"
   ]
  },
  {
   "cell_type": "code",
   "execution_count": 169,
   "id": "7464814c-0e8c-4c35-8fa2-1d8b672f670c",
   "metadata": {},
   "outputs": [
    {
     "name": "stdout",
     "output_type": "stream",
     "text": [
      "The unique values are: CarName\n",
      "[ 1  2  3  5  6  7  8  9 10 11  4 12 13  0 14 15 16 18 17 19 20 21 22 23\n",
      " 24 25 27 26]\n",
      "========\n",
      "\n",
      "The unique values are: fueltype\n",
      "[1 0]\n",
      "========\n",
      "\n",
      "The unique values are: doornumber\n",
      "[1 0]\n",
      "========\n",
      "\n",
      "The unique values are: drivewheel\n",
      "[2 1 0]\n",
      "========\n",
      "\n",
      "The unique values are: enginetype\n",
      "[0 5 3 2 6 4 1]\n",
      "========\n",
      "\n",
      "The unique values are: cylindernumber\n",
      "[2 3 1 4 5 6 0]\n",
      "========\n",
      "\n",
      "The unique values are: enginesize\n",
      "[130 152 136 131 108 164 209  61  90  98 122 156  92  79 110 111 119 258\n",
      " 326  91  70  80 140 134 183 234 308 304  97 103 120 181 151 194 203 132\n",
      " 121 146 171 161 109 141 173 145]\n",
      "========\n",
      "\n",
      "The unique values are: horsepower\n",
      "[111 154 110 140 160 101 121 182  48  70  68 102  88 145  58  76  60  86\n",
      " 100  78  90 176 262 135  84  64 120  72 123 155 184 175 116  69  55  97\n",
      " 152 200  95 142 143 207 288  73  82  94  62  56 112  92 161 156  52  85\n",
      " 114 162 134 106]\n",
      "========\n",
      "\n",
      "The unique values are: citympg\n",
      "[21 19 17 16 23 20 15 47 38 37 31 24 49 30 27 25 13 26 36 22 14 45 28 18\n",
      " 32 35 34 29 33]\n",
      "========\n",
      "\n",
      "The unique values are: highwaympg\n",
      "[27 26 25 20 22 29 28 53 43 41 38 30 24 54 42 34 33 31 19 17 23 32 39 18\n",
      " 16 37 50 36 47 46]\n",
      "========\n",
      "\n",
      "The unique values are: price\n",
      "[13495.    16500.    15250.    18920.    23875.    17859.167 16430.\n",
      " 16925.    20970.    21105.    24565.    30760.    41315.    36880.\n",
      "  5151.     6295.     6575.     5572.     6377.     7957.     6229.\n",
      "  6692.     7609.     8558.     8921.    12964.     6479.     6855.\n",
      "  5399.     6529.     7129.     7295.     7895.     9095.     8845.\n",
      " 10295.    12945.    10345.     6785.     8916.5   11048.    32250.\n",
      " 35550.    36000.     5195.     6095.     6795.     6695.     7395.\n",
      " 10945.    11845.    13645.    15645.     8495.    10595.    10245.\n",
      " 10795.    11245.    18280.    18344.    25552.    28248.    28176.\n",
      " 31600.    34184.    35056.    40960.    45400.    16503.     5389.\n",
      "  6189.     6669.     7689.     9959.     8499.    12629.    14869.\n",
      " 14489.     6989.     8189.     9279.     5499.     7099.     6649.\n",
      "  6849.     7349.     7299.     7799.     7499.     7999.     8249.\n",
      "  8949.     9549.    13499.    14399.    17199.    19699.    18399.\n",
      " 11900.    13200.    12440.    13860.    15580.    16900.    16695.\n",
      " 17075.    16630.    17950.    18150.    12764.    22018.    32528.\n",
      " 34028.    37028.    31400.5    9295.     9895.    11850.    12170.\n",
      " 15040.    15510.    18620.     5118.     7053.     7603.     7126.\n",
      "  7775.     9960.     9233.    11259.     7463.    10198.     8013.\n",
      " 11694.     5348.     6338.     6488.     6918.     7898.     8778.\n",
      "  6938.     7198.     7788.     7738.     8358.     9258.     8058.\n",
      "  8238.     9298.     9538.     8449.     9639.     9989.    11199.\n",
      " 11549.    17669.     8948.    10698.     9988.    10898.    11248.\n",
      " 16558.    15998.    15690.    15750.     7975.     7995.     8195.\n",
      "  9495.     9995.    11595.     9980.    13295.    13845.    12290.\n",
      " 12940.    13415.    15985.    16515.    18420.    18950.    16845.\n",
      " 19045.    21485.    22470.    22625.   ]\n",
      "========\n",
      "\n"
     ]
    }
   ],
   "source": [
    "for col in df.columns:\n",
    "    print(\"The unique values are: \"+col)\n",
    "    print(df[col].unique())\n",
    "    print(\"========\\n\")"
   ]
  },
  {
   "cell_type": "code",
   "execution_count": 149,
   "id": "498497cf-4651-4832-af53-bd8655bab95a",
   "metadata": {},
   "outputs": [
    {
     "data": {
      "text/plain": [
       "array(['alfa-romero', 'audi', 'bmw', 'chevrolet', 'dodge', 'honda',\n",
       "       'isuzu', 'jaguar', 'maxda', 'mazda', 'buick', 'mercury',\n",
       "       'mitsubishi', 'Nissan', 'nissan', 'peugeot', 'plymouth', 'porsche',\n",
       "       'porcshce', 'renault', 'saab', 'subaru', 'toyota', 'toyouta',\n",
       "       'vokswagen', 'volkswagen', 'vw', 'volvo'], dtype=object)"
      ]
     },
     "execution_count": 149,
     "metadata": {},
     "output_type": "execute_result"
    }
   ],
   "source": [
    "df['CarName'].unique()"
   ]
  },
  {
   "cell_type": "markdown",
   "id": "ee580675-4208-465e-8a18-ba41ce1291c8",
   "metadata": {},
   "source": [
    "### Since the some of the datasets are in categorical values we have to encode them into numerical values"
   ]
  },
  {
   "cell_type": "code",
   "execution_count": 150,
   "id": "b8092179-d28a-4d3d-b74b-a8872d67b28d",
   "metadata": {},
   "outputs": [],
   "source": [
    "le = LabelEncoder()"
   ]
  },
  {
   "cell_type": "code",
   "execution_count": 155,
   "id": "5b770e59-2af1-4ad6-a20a-52827ef30e33",
   "metadata": {},
   "outputs": [
    {
     "data": {
      "text/plain": [
       "array([ 1,  2,  3,  5,  6,  7,  8,  9, 10, 11,  4, 12, 13,  0, 14, 15, 16,\n",
       "       18, 17, 19, 20, 21, 22, 23, 24, 25, 27, 26])"
      ]
     },
     "execution_count": 155,
     "metadata": {},
     "output_type": "execute_result"
    }
   ],
   "source": [
    "df['CarName'] = le.fit_transform(df['CarName'])"
   ]
  },
  {
   "cell_type": "code",
   "execution_count": 167,
   "id": "2a4ea88a-125c-43d1-ac83-e0843f9107b9",
   "metadata": {},
   "outputs": [],
   "source": [
    "df['cylindernumber'] = le.fit_transform(df['cylindernumber'])"
   ]
  },
  {
   "cell_type": "markdown",
   "id": "5123277d-fc21-4ba8-a2b3-cc4745e1b1ec",
   "metadata": {},
   "source": [
    "### Checking if all the columns values have the numerical values or not"
   ]
  },
  {
   "cell_type": "code",
   "execution_count": 172,
   "id": "d52d3523-1918-4b9b-837b-3a59aefff33b",
   "metadata": {},
   "outputs": [
    {
     "data": {
      "text/html": [
       "<div>\n",
       "<style scoped>\n",
       "    .dataframe tbody tr th:only-of-type {\n",
       "        vertical-align: middle;\n",
       "    }\n",
       "\n",
       "    .dataframe tbody tr th {\n",
       "        vertical-align: top;\n",
       "    }\n",
       "\n",
       "    .dataframe thead th {\n",
       "        text-align: right;\n",
       "    }\n",
       "</style>\n",
       "<table border=\"1\" class=\"dataframe\">\n",
       "  <thead>\n",
       "    <tr style=\"text-align: right;\">\n",
       "      <th></th>\n",
       "      <th>CarName</th>\n",
       "      <th>fueltype</th>\n",
       "      <th>doornumber</th>\n",
       "      <th>drivewheel</th>\n",
       "      <th>enginetype</th>\n",
       "      <th>cylindernumber</th>\n",
       "      <th>enginesize</th>\n",
       "      <th>horsepower</th>\n",
       "      <th>citympg</th>\n",
       "      <th>highwaympg</th>\n",
       "      <th>price</th>\n",
       "    </tr>\n",
       "  </thead>\n",
       "  <tbody>\n",
       "    <tr>\n",
       "      <th>0</th>\n",
       "      <td>1</td>\n",
       "      <td>1</td>\n",
       "      <td>1</td>\n",
       "      <td>2</td>\n",
       "      <td>0</td>\n",
       "      <td>2</td>\n",
       "      <td>130</td>\n",
       "      <td>111</td>\n",
       "      <td>21</td>\n",
       "      <td>27</td>\n",
       "      <td>13495.0</td>\n",
       "    </tr>\n",
       "    <tr>\n",
       "      <th>1</th>\n",
       "      <td>1</td>\n",
       "      <td>1</td>\n",
       "      <td>1</td>\n",
       "      <td>2</td>\n",
       "      <td>0</td>\n",
       "      <td>2</td>\n",
       "      <td>130</td>\n",
       "      <td>111</td>\n",
       "      <td>21</td>\n",
       "      <td>27</td>\n",
       "      <td>16500.0</td>\n",
       "    </tr>\n",
       "    <tr>\n",
       "      <th>2</th>\n",
       "      <td>1</td>\n",
       "      <td>1</td>\n",
       "      <td>1</td>\n",
       "      <td>2</td>\n",
       "      <td>5</td>\n",
       "      <td>3</td>\n",
       "      <td>152</td>\n",
       "      <td>154</td>\n",
       "      <td>19</td>\n",
       "      <td>26</td>\n",
       "      <td>16500.0</td>\n",
       "    </tr>\n",
       "    <tr>\n",
       "      <th>5</th>\n",
       "      <td>2</td>\n",
       "      <td>1</td>\n",
       "      <td>1</td>\n",
       "      <td>1</td>\n",
       "      <td>3</td>\n",
       "      <td>1</td>\n",
       "      <td>136</td>\n",
       "      <td>110</td>\n",
       "      <td>19</td>\n",
       "      <td>25</td>\n",
       "      <td>15250.0</td>\n",
       "    </tr>\n",
       "    <tr>\n",
       "      <th>7</th>\n",
       "      <td>2</td>\n",
       "      <td>1</td>\n",
       "      <td>0</td>\n",
       "      <td>1</td>\n",
       "      <td>3</td>\n",
       "      <td>1</td>\n",
       "      <td>136</td>\n",
       "      <td>110</td>\n",
       "      <td>19</td>\n",
       "      <td>25</td>\n",
       "      <td>18920.0</td>\n",
       "    </tr>\n",
       "  </tbody>\n",
       "</table>\n",
       "</div>"
      ],
      "text/plain": [
       "   CarName  fueltype  doornumber  drivewheel  enginetype  cylindernumber  \\\n",
       "0        1         1           1           2           0               2   \n",
       "1        1         1           1           2           0               2   \n",
       "2        1         1           1           2           5               3   \n",
       "5        2         1           1           1           3               1   \n",
       "7        2         1           0           1           3               1   \n",
       "\n",
       "   enginesize  horsepower  citympg  highwaympg    price  \n",
       "0         130         111       21          27  13495.0  \n",
       "1         130         111       21          27  16500.0  \n",
       "2         152         154       19          26  16500.0  \n",
       "5         136         110       19          25  15250.0  \n",
       "7         136         110       19          25  18920.0  "
      ]
     },
     "execution_count": 172,
     "metadata": {},
     "output_type": "execute_result"
    }
   ],
   "source": [
    "df.head()"
   ]
  },
  {
   "cell_type": "code",
   "execution_count": 179,
   "id": "1f9fc354-f3fd-435c-bd2b-e46d14be7f1d",
   "metadata": {},
   "outputs": [],
   "source": [
    "X = df.drop(columns=['price'])\n",
    "y = df[['price']]\n",
    "\n",
    "# In the value of y i have used 2 big brackets inorder to create a 2d array"
   ]
  },
  {
   "cell_type": "code",
   "execution_count": 181,
   "id": "b1b683c5-baba-4b81-9213-d52e67e79ad2",
   "metadata": {},
   "outputs": [],
   "source": [
    "# from sklearn.model_creation import train_test_split\n",
    "from sklearn.model_selection import train_test_split\n",
    "X_train,X_test,y_train,y_test = train_test_split(X,y,test_size=0.2,random_state=42)"
   ]
  },
  {
   "cell_type": "code",
   "execution_count": 190,
   "id": "6df933f2-c2e4-4af2-a220-0536daa9eb23",
   "metadata": {},
   "outputs": [],
   "source": [
    "from sklearn.linear_model import LinearRegression"
   ]
  },
  {
   "cell_type": "code",
   "execution_count": 193,
   "id": "bbcbd904-34ac-4978-83d8-5bc627d40fec",
   "metadata": {},
   "outputs": [
    {
     "data": {
      "text/html": [
       "<style>#sk-container-id-1 {color: black;background-color: white;}#sk-container-id-1 pre{padding: 0;}#sk-container-id-1 div.sk-toggleable {background-color: white;}#sk-container-id-1 label.sk-toggleable__label {cursor: pointer;display: block;width: 100%;margin-bottom: 0;padding: 0.3em;box-sizing: border-box;text-align: center;}#sk-container-id-1 label.sk-toggleable__label-arrow:before {content: \"▸\";float: left;margin-right: 0.25em;color: #696969;}#sk-container-id-1 label.sk-toggleable__label-arrow:hover:before {color: black;}#sk-container-id-1 div.sk-estimator:hover label.sk-toggleable__label-arrow:before {color: black;}#sk-container-id-1 div.sk-toggleable__content {max-height: 0;max-width: 0;overflow: hidden;text-align: left;background-color: #f0f8ff;}#sk-container-id-1 div.sk-toggleable__content pre {margin: 0.2em;color: black;border-radius: 0.25em;background-color: #f0f8ff;}#sk-container-id-1 input.sk-toggleable__control:checked~div.sk-toggleable__content {max-height: 200px;max-width: 100%;overflow: auto;}#sk-container-id-1 input.sk-toggleable__control:checked~label.sk-toggleable__label-arrow:before {content: \"▾\";}#sk-container-id-1 div.sk-estimator input.sk-toggleable__control:checked~label.sk-toggleable__label {background-color: #d4ebff;}#sk-container-id-1 div.sk-label input.sk-toggleable__control:checked~label.sk-toggleable__label {background-color: #d4ebff;}#sk-container-id-1 input.sk-hidden--visually {border: 0;clip: rect(1px 1px 1px 1px);clip: rect(1px, 1px, 1px, 1px);height: 1px;margin: -1px;overflow: hidden;padding: 0;position: absolute;width: 1px;}#sk-container-id-1 div.sk-estimator {font-family: monospace;background-color: #f0f8ff;border: 1px dotted black;border-radius: 0.25em;box-sizing: border-box;margin-bottom: 0.5em;}#sk-container-id-1 div.sk-estimator:hover {background-color: #d4ebff;}#sk-container-id-1 div.sk-parallel-item::after {content: \"\";width: 100%;border-bottom: 1px solid gray;flex-grow: 1;}#sk-container-id-1 div.sk-label:hover label.sk-toggleable__label {background-color: #d4ebff;}#sk-container-id-1 div.sk-serial::before {content: \"\";position: absolute;border-left: 1px solid gray;box-sizing: border-box;top: 0;bottom: 0;left: 50%;z-index: 0;}#sk-container-id-1 div.sk-serial {display: flex;flex-direction: column;align-items: center;background-color: white;padding-right: 0.2em;padding-left: 0.2em;position: relative;}#sk-container-id-1 div.sk-item {position: relative;z-index: 1;}#sk-container-id-1 div.sk-parallel {display: flex;align-items: stretch;justify-content: center;background-color: white;position: relative;}#sk-container-id-1 div.sk-item::before, #sk-container-id-1 div.sk-parallel-item::before {content: \"\";position: absolute;border-left: 1px solid gray;box-sizing: border-box;top: 0;bottom: 0;left: 50%;z-index: -1;}#sk-container-id-1 div.sk-parallel-item {display: flex;flex-direction: column;z-index: 1;position: relative;background-color: white;}#sk-container-id-1 div.sk-parallel-item:first-child::after {align-self: flex-end;width: 50%;}#sk-container-id-1 div.sk-parallel-item:last-child::after {align-self: flex-start;width: 50%;}#sk-container-id-1 div.sk-parallel-item:only-child::after {width: 0;}#sk-container-id-1 div.sk-dashed-wrapped {border: 1px dashed gray;margin: 0 0.4em 0.5em 0.4em;box-sizing: border-box;padding-bottom: 0.4em;background-color: white;}#sk-container-id-1 div.sk-label label {font-family: monospace;font-weight: bold;display: inline-block;line-height: 1.2em;}#sk-container-id-1 div.sk-label-container {text-align: center;}#sk-container-id-1 div.sk-container {/* jupyter's `normalize.less` sets `[hidden] { display: none; }` but bootstrap.min.css set `[hidden] { display: none !important; }` so we also need the `!important` here to be able to override the default hidden behavior on the sphinx rendered scikit-learn.org. See: https://github.com/scikit-learn/scikit-learn/issues/21755 */display: inline-block !important;position: relative;}#sk-container-id-1 div.sk-text-repr-fallback {display: none;}</style><div id=\"sk-container-id-1\" class=\"sk-top-container\"><div class=\"sk-text-repr-fallback\"><pre>LinearRegression()</pre><b>In a Jupyter environment, please rerun this cell to show the HTML representation or trust the notebook. <br />On GitHub, the HTML representation is unable to render, please try loading this page with nbviewer.org.</b></div><div class=\"sk-container\" hidden><div class=\"sk-item\"><div class=\"sk-estimator sk-toggleable\"><input class=\"sk-toggleable__control sk-hidden--visually\" id=\"sk-estimator-id-1\" type=\"checkbox\" checked><label for=\"sk-estimator-id-1\" class=\"sk-toggleable__label sk-toggleable__label-arrow\">LinearRegression</label><div class=\"sk-toggleable__content\"><pre>LinearRegression()</pre></div></div></div></div></div>"
      ],
      "text/plain": [
       "LinearRegression()"
      ]
     },
     "execution_count": 193,
     "metadata": {},
     "output_type": "execute_result"
    }
   ],
   "source": [
    "lr = LinearRegression()\n",
    "lr.fit(X_train,y_train)"
   ]
  },
  {
   "cell_type": "code",
   "execution_count": 195,
   "id": "5552cf56-0a16-434b-a59a-17a99640981f",
   "metadata": {},
   "outputs": [
    {
     "data": {
      "text/plain": [
       "array([[ -111.31718646, -2668.01609027,  -961.29964982,  2054.0673478 ,\n",
       "          360.7679451 ,  -829.1725733 ,    78.1086494 ,    63.54661124,\n",
       "         -272.35343787,   121.47985435]])"
      ]
     },
     "execution_count": 195,
     "metadata": {},
     "output_type": "execute_result"
    }
   ],
   "source": [
    "lr.coef_"
   ]
  },
  {
   "cell_type": "code",
   "execution_count": 197,
   "id": "0bbfb245-eee1-42ac-87da-ae46eefa7485",
   "metadata": {},
   "outputs": [
    {
     "data": {
      "text/plain": [
       "array([2129.30952165])"
      ]
     },
     "execution_count": 197,
     "metadata": {},
     "output_type": "execute_result"
    }
   ],
   "source": [
    "lr.intercept_"
   ]
  },
  {
   "cell_type": "code",
   "execution_count": 198,
   "id": "6241c74c-38da-4b8f-aae6-ec2f5ac50e23",
   "metadata": {},
   "outputs": [],
   "source": [
    "y_pred = lr.predict(X_test)"
   ]
  },
  {
   "cell_type": "code",
   "execution_count": 202,
   "id": "0da405c5-2377-499e-bc21-d1064c7a363f",
   "metadata": {},
   "outputs": [
    {
     "data": {
      "text/plain": [
       "array([[ 6432.63241215],\n",
       "       [-1144.99355237],\n",
       "       [ 7174.04962386],\n",
       "       [ 7097.67058151],\n",
       "       [ 8191.92684736],\n",
       "       [ 4451.48967232],\n",
       "       [29922.83053184],\n",
       "       [10399.69734366],\n",
       "       [ 7918.08484161],\n",
       "       [29639.10651792],\n",
       "       [24239.34383253],\n",
       "       [ 5668.0250446 ],\n",
       "       [15466.291902  ],\n",
       "       [10730.77280277],\n",
       "       [18590.36376282],\n",
       "       [16198.44512239],\n",
       "       [10426.86729286],\n",
       "       [ 6917.40326881],\n",
       "       [11692.07245259],\n",
       "       [30884.13018166],\n",
       "       [26274.18760717],\n",
       "       [ 5773.67821669],\n",
       "       [ 7747.19113445],\n",
       "       [ 7393.93206198],\n",
       "       [25200.64348235],\n",
       "       [11276.51497294],\n",
       "       [12835.82094147],\n",
       "       [25200.64348235],\n",
       "       [33894.09440981],\n",
       "       [10177.7080439 ],\n",
       "       [19049.93522185],\n",
       "       [ 5564.66153693],\n",
       "       [11837.07777053],\n",
       "       [ 6211.3395947 ],\n",
       "       [15466.291902  ],\n",
       "       [14240.72147716],\n",
       "       [ 7760.44970371],\n",
       "       [ 8388.42735354],\n",
       "       [15466.291902  ],\n",
       "       [ 9775.21150358],\n",
       "       [17670.9055156 ]])"
      ]
     },
     "execution_count": 202,
     "metadata": {},
     "output_type": "execute_result"
    }
   ],
   "source": [
    "y_pred "
   ]
  },
  {
   "cell_type": "code",
   "execution_count": 204,
   "id": "711a3c84-3eed-4390-bd4e-73740bd07cb6",
   "metadata": {},
   "outputs": [],
   "source": [
    "y_test = y_test.values"
   ]
  },
  {
   "cell_type": "code",
   "execution_count": 206,
   "id": "d15c2450-f4ec-46f1-92df-b0ce3f9848eb",
   "metadata": {},
   "outputs": [],
   "source": [
    "from sklearn.metrics import mean_squared_error,r2_score"
   ]
  },
  {
   "cell_type": "code",
   "execution_count": 207,
   "id": "60f5f3b0-0a39-488f-9891-018b5af3c57c",
   "metadata": {},
   "outputs": [
    {
     "data": {
      "text/plain": [
       "14064453.108871818"
      ]
     },
     "execution_count": 207,
     "metadata": {},
     "output_type": "execute_result"
    }
   ],
   "source": [
    "mse = mean_squared_error(y_pred,y_test)\n",
    "mse"
   ]
  },
  {
   "cell_type": "code",
   "execution_count": 219,
   "id": "9e4e0f29-3481-4819-882f-3e28e6f3c5df",
   "metadata": {},
   "outputs": [
    {
     "ename": "TypeError",
     "evalue": "'numpy.float64' object is not callable",
     "output_type": "error",
     "traceback": [
      "\u001b[0;31m---------------------------------------------------------------------------\u001b[0m",
      "\u001b[0;31mTypeError\u001b[0m                                 Traceback (most recent call last)",
      "Cell \u001b[0;32mIn[219], line 1\u001b[0m\n\u001b[0;32m----> 1\u001b[0m r2_score \u001b[38;5;241m=\u001b[39m r2_score(y_pred,y_test)\n",
      "\u001b[0;31mTypeError\u001b[0m: 'numpy.float64' object is not callable"
     ]
    }
   ],
   "source": [
    "r2_score = r2_score(y_pred,y_test)"
   ]
  },
  {
   "cell_type": "code",
   "execution_count": 220,
   "id": "f0627090-9145-4f88-9958-eca3b75caa1b",
   "metadata": {},
   "outputs": [
    {
     "data": {
      "text/plain": [
       "0.797900351076918"
      ]
     },
     "execution_count": 220,
     "metadata": {},
     "output_type": "execute_result"
    }
   ],
   "source": [
    "r2_score"
   ]
  },
  {
   "cell_type": "code",
   "execution_count": null,
   "id": "280b872b-d763-4ee8-a7ef-100844e033f4",
   "metadata": {},
   "outputs": [],
   "source": [
    "sns.regplot(x=y_pred,y=y_test)"
   ]
  },
  {
   "cell_type": "code",
   "execution_count": null,
   "id": "c181f150-87f4-4cd1-800a-42abeeda184d",
   "metadata": {},
   "outputs": [],
   "source": []
  },
  {
   "cell_type": "code",
   "execution_count": null,
   "id": "3a2c01e0-e5fb-4301-a126-6192bcfc2806",
   "metadata": {},
   "outputs": [],
   "source": []
  },
  {
   "cell_type": "code",
   "execution_count": null,
   "id": "a7a1f8c9-b7f2-49ae-a289-ca5bdb84b686",
   "metadata": {},
   "outputs": [],
   "source": []
  },
  {
   "cell_type": "code",
   "execution_count": null,
   "id": "68ba4bc5-8e49-4112-b10c-e6e60d01ec10",
   "metadata": {},
   "outputs": [],
   "source": []
  }
 ],
 "metadata": {
  "kernelspec": {
   "display_name": "Python 3 (ipykernel)",
   "language": "python",
   "name": "python3"
  },
  "language_info": {
   "codemirror_mode": {
    "name": "ipython",
    "version": 3
   },
   "file_extension": ".py",
   "mimetype": "text/x-python",
   "name": "python",
   "nbconvert_exporter": "python",
   "pygments_lexer": "ipython3",
   "version": "3.11.7"
  }
 },
 "nbformat": 4,
 "nbformat_minor": 5
}
